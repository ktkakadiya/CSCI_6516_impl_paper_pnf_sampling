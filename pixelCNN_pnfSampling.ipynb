{
  "nbformat": 4,
  "nbformat_minor": 0,
  "metadata": {
    "colab": {
      "name": "pixelCNN_pnfSampling.ipynb",
      "provenance": [],
      "collapsed_sections": []
    },
    "kernelspec": {
      "name": "python3",
      "display_name": "Python 3"
    },
    "language_info": {
      "name": "python"
    }
  },
  "cells": [
    {
      "cell_type": "code",
      "execution_count": 117,
      "metadata": {
        "id": "SOJHmyPXX0pc"
      },
      "outputs": [],
      "source": [
        "# Imports\n",
        "import numpy as np\n",
        "import torch\n",
        "import tensorflow as tf\n",
        "import tensorflow_datasets as tfdf\n",
        "from tensorflow.keras import layers\n",
        "from tensorflow.keras.activations import relu\n",
        "from tensorflow.keras.models import Sequential\n",
        "\n",
        "import warnings\n",
        "warnings.filterwarnings('ignore')"
      ]
    },
    {
      "cell_type": "markdown",
      "source": [
        "# 1. PixelCNN Model"
      ],
      "metadata": {
        "id": "FVQzP1bE83Is"
      }
    },
    {
      "cell_type": "markdown",
      "source": [
        "## 1.1 : Dataset Loading"
      ],
      "metadata": {
        "id": "xkUTy4uk_vrF"
      }
    },
    {
      "cell_type": "code",
      "source": [
        "# Load MNIST dataset\n",
        "train_dataset, test_dataset = tfdf.load('mnist', split=['test', 'test'], \n",
        "                                shuffle_files=True, as_supervised=True)"
      ],
      "metadata": {
        "id": "wKwwudvI9FZK"
      },
      "execution_count": 118,
      "outputs": []
    },
    {
      "cell_type": "code",
      "source": [
        "# Function to convert image to black & white image \n",
        "def convert_black_white(image, label):\n",
        "    image = tf.cast(image, tf.float32)\n",
        "    image = tf.math.round(image/255.)\n",
        "    return image, tf.cast(image, tf.int32)\n",
        "\n",
        "# Convert both train dataset and test dataset into black and white (0, 1) values\n",
        "train_dataset = train_dataset.map(convert_black_white)\n",
        "test_dataset = test_dataset.map(convert_black_white)"
      ],
      "metadata": {
        "id": "r-_KC_K2_LPR"
      },
      "execution_count": 119,
      "outputs": []
    },
    {
      "cell_type": "code",
      "source": [
        "# cache dataset into memory\n",
        "train_dataset = train_dataset.cache().batch(64)\n",
        "test_dataset = test_dataset.batch(64).cache().prefetch(64)"
      ],
      "metadata": {
        "id": "ngaw-ISi_NLA"
      },
      "execution_count": 120,
      "outputs": []
    },
    {
      "cell_type": "markdown",
      "source": [
        "## 1.2 : Model"
      ],
      "metadata": {
        "id": "3LTNEV5m_0fL"
      }
    },
    {
      "cell_type": "code",
      "source": [
        "# Global variables\n",
        "image_width = 28\n",
        "image_height = 28\n",
        "image_channels = 1"
      ],
      "metadata": {
        "id": "_k_lLaBMEZAF"
      },
      "execution_count": 121,
      "outputs": []
    },
    {
      "cell_type": "markdown",
      "source": [
        "1. First of all, we create Masked Convolution layer class for PixelCNN."
      ],
      "metadata": {
        "id": "3mXt4qwE_9_3"
      }
    },
    {
      "cell_type": "code",
      "source": [
        "# Masked convolution layer class\n",
        "class MaskedConvolutionLayer(layers.Layer):\n",
        "\n",
        "    def __init__(self, mask_type, kernel_size=5, filters=1):\n",
        "        super(MaskedConvolutionLayer, self).__init__()\n",
        "        self.mask_type = mask_type\n",
        "        self.kernel_size = kernel_size\n",
        "        self.filters = filters\n",
        "        \n",
        "    def build(self, input_shape):\n",
        "        self.layer_weights = self.add_weight(shape=[self.kernel_size, self.kernel_size, input_shape[-1], \n",
        "                                              self.filters], initializer='glorot_normal', trainable=True)\n",
        "        self.layer_bias = self.add_weight(shape=(self.filters,), initializer='zeros', trainable=True)\n",
        "\n",
        "        # Convolution mask\n",
        "        # Create matrix of kernel_size * kernel_size of all ones\n",
        "        mask_size = pow(self.kernel_size, 2)\n",
        "        mask = np.ones(mask_size, dtype=np.float32)\n",
        "\n",
        "        # Set all the pixels after center to 0 (Masking)\n",
        "        center_pixel = mask_size // 2\n",
        "        mask[center_pixel + 1:] = 0\n",
        "\n",
        "        # Update mask based if type is A (set the center pixel to zero)\n",
        "        if self.mask_type == 'A':\n",
        "            mask[center_pixel] = 0\n",
        "         \n",
        "        mask = mask.reshape((self.kernel_size, self.kernel_size, 1, 1))\n",
        "        self.mask = tf.constant(mask, dtype='float32')\n",
        "        \n",
        "    def call(self, inputs):\n",
        "        # Mask weights convolution \n",
        "        masked_weights = tf.math.multiply(self.layer_weights, self.mask)\n",
        "\n",
        "        # Apply convolution on input\n",
        "        output = tf.nn.conv2d(inputs, masked_weights, 1, \"SAME\") + self.layer_bias\n",
        "        \n",
        "        # Get layer activation\n",
        "        act_output = tf.nn.relu(output)\n",
        "        return act_output"
      ],
      "metadata": {
        "id": "qFgHAMls_8qp"
      },
      "execution_count": 122,
      "outputs": []
    },
    {
      "cell_type": "markdown",
      "source": [
        "2. Now, we create class for the Residual Block of PixelCNN."
      ],
      "metadata": {
        "id": "m8FmmjqEDNgm"
      }
    },
    {
      "cell_type": "code",
      "source": [
        "# Residual Block layer class\n",
        "class ResidualBlock(layers.Layer):\n",
        "    def __init__(self, h=32):\n",
        "        super(ResidualBlock, self).__init__()\n",
        "\n",
        "        # Residual layer consist of three masked convolution layers of type B masks\n",
        "        self.forward = Sequential([MaskedConvolutionLayer('B', kernel_size=1, filters=h),\n",
        "                                   MaskedConvolutionLayer('B', kernel_size=3, filters=h),\n",
        "                                   MaskedConvolutionLayer('B', kernel_size=1, filters=2*h)])         \n",
        "    def call(self, inputs):\n",
        "        # Apply convolutions\n",
        "        x = self.forward(inputs)\n",
        "\n",
        "        # Apply residuals\n",
        "        x = x + inputs\n",
        "        return x"
      ],
      "metadata": {
        "id": "eHFjDQka9Kd4"
      },
      "execution_count": 123,
      "outputs": []
    },
    {
      "cell_type": "markdown",
      "source": [
        "3. Now we create PixelCNN class consisting of both Convolution and Residual layers."
      ],
      "metadata": {
        "id": "6taIeCUKD_O_"
      }
    },
    {
      "cell_type": "code",
      "source": [
        "def PixelCnn(hidden_features=64, output_features=64, resblocks_num=5):\n",
        "    # Initiate input tensor \n",
        "    inputs = layers.Input(shape=[image_width, image_height, image_channels])\n",
        "\n",
        "    # Apply masked convolution on the input\n",
        "    outputs = MaskedConvolutionLayer('A', kernel_size=7, filters=2*hidden_features)(inputs)\n",
        "\n",
        "    # Apply number of residual block on the outputs\n",
        "    for _ in range(resblocks_num):\n",
        "        outputs = ResidualBlock(hidden_features)(outputs)\n",
        "        \n",
        "    # Apply Convolution with relu activation\n",
        "    outputs = layers.Conv2D(output_features, (1, 1), padding='same', activation='relu')(outputs) \n",
        "\n",
        "    # Apply Convolution with sigmoid activation\n",
        "    outputs = layers.Conv2D(1, (1, 1), padding='same', activation='sigmoid')(outputs)\n",
        "\n",
        "    return tf.keras.Model(inputs=inputs, outputs=outputs, name='PixelCnn')"
      ],
      "metadata": {
        "id": "3DHt6hiKD-Gj"
      },
      "execution_count": 124,
      "outputs": []
    },
    {
      "cell_type": "code",
      "source": [
        "# Create Pixel class model instance\n",
        "pixelCNNModel = PixelCnn()\n",
        "pixelCNNModel.compile(\n",
        "    loss = tf.keras.losses.BinaryCrossentropy(),\n",
        "    optimizer=tf.keras.optimizers.RMSprop(learning_rate=0.001),\n",
        "    metrics=[tf.keras.losses.BinaryCrossentropy()])"
      ],
      "metadata": {
        "id": "0MuS2Nt89NC1"
      },
      "execution_count": 125,
      "outputs": []
    },
    {
      "cell_type": "code",
      "source": [
        "pixelCNNModel.fit(train_dataset, epochs = 5, validation_data=test_dataset)"
      ],
      "metadata": {
        "colab": {
          "base_uri": "https://localhost:8080/"
        },
        "id": "iQ5NVFrFGtO3",
        "outputId": "3e6bd30e-773c-4716-c580-567ec7ef7a7a"
      },
      "execution_count": 127,
      "outputs": [
        {
          "output_type": "stream",
          "name": "stdout",
          "text": [
            "Epoch 1/5\n",
            "157/157 [==============================] - 571s 4s/step - loss: 0.1250 - binary_crossentropy: 0.1248 - val_loss: 0.1013 - val_binary_crossentropy: 0.1012\n",
            "Epoch 2/5\n",
            "157/157 [==============================] - 583s 4s/step - loss: 0.1018 - binary_crossentropy: 0.1018 - val_loss: 0.0968 - val_binary_crossentropy: 0.0968\n",
            "Epoch 3/5\n",
            "157/157 [==============================] - 610s 4s/step - loss: 0.0975 - binary_crossentropy: 0.0975 - val_loss: 0.0974 - val_binary_crossentropy: 0.0974\n",
            "Epoch 4/5\n",
            "157/157 [==============================] - 512s 3s/step - loss: 0.0945 - binary_crossentropy: 0.0945 - val_loss: 0.0935 - val_binary_crossentropy: 0.0935\n",
            "Epoch 5/5\n",
            "157/157 [==============================] - 512s 3s/step - loss: 0.0927 - binary_crossentropy: 0.0927 - val_loss: 0.0908 - val_binary_crossentropy: 0.0907\n"
          ]
        },
        {
          "output_type": "execute_result",
          "data": {
            "text/plain": [
              "<keras.callbacks.History at 0x7f2999032610>"
            ]
          },
          "metadata": {},
          "execution_count": 127
        }
      ]
    },
    {
      "cell_type": "markdown",
      "source": [
        "# 2. Parallel and Flexible Sampling Algorithm"
      ],
      "metadata": {
        "id": "fioacfjO8-XD"
      }
    },
    {
      "cell_type": "markdown",
      "source": [
        "1. Here, we will implement the algorithm preseted in the paper for Parallel and Flexible sampling."
      ],
      "metadata": {
        "id": "_DIxZMt5IN50"
      }
    },
    {
      "cell_type": "markdown",
      "source": [
        "![Screenshot (455).png](data:image/png;base64,iVBORw0KGgoAAAANSUhEUgAAAbkAAAEMCAYAAABZU8juAAAAAXNSR0IArs4c6QAAAARnQU1BAACxjwv8YQUAAAAJcEhZcwAADsMAAA7DAcdvqGQAAAAhdEVYdENyZWF0aW9uIFRpbWUAMjAyMjowODoxMyAwMDowNTo0Mi+57FIAAIgTSURBVHhe7d0HWBRHGwfw/4ndQwSxHIqCFBELKohix24sWGKJRhBLxESjfnYTSxJLFCyoCVhAxYYFGxYsoIKKBRSUjhRBQLrAgbS7+XaPRSlHFRTJ/J7nHnbn9u62DPvuzM7O8AgDFEVRFFUL1eH+UhRFUVStQ4McRVEUVWvRIEdRFEXVWjTIURRFUbUWDXIURVFUrUWDHEVRFFVr0SBHURRF1Vo0yFEURVG1Fg1yFEVRVK1FgxxFURRVa9EgR1EURdVaNMhRFEVRtRYNchRFUVStRYMcRVEUVWt99lA7PB6Pm6IoiqKoL6O8oYuOJ0dRFEXVWrS6kqIoiqq1aJCjKIqiai0a5CiKKjcijMM7oYibo6iarxqCnBipbuZYfCECUm/2iWPg/vd0KPB44PEMYeEp5N74EnIR72YBI72p2Ob2rsD6EeRGXMCyfZ7MEgx2HXebQvOrrCMrB+9D3eFgsQjLLkVyacWRBG9cOrwGYxXY9VSC3tiZMJk1FnqyslA3NMUG23sIq64TUmYoXGwtsNpkCNTVLeDJ7jhpaaUiyAy7C1uL1TAx1IS6Bbf/vwQiRMSTq8xvr8DU7/6Bt5TdJNm/VstgKFtg/5qYcK+ZGKunxKQPwPrjl6pnG4RPYDFEFZo/OyKGMHk0/iVunrTE6qlDYHpBWr6oyv0pgtDvHNaM7crkpcmYynwfT30Qxo2bgr8fJnDLfCVS85kYQo/dGCKrh5+vRko/91D/SVUf5Mhb3Dlii6N2dxCcIyWr1RHAwGQqxnGzX1Ycnpy0wRXPc9h60gP5/6pE+BI2q9bAMYtLYNdx+jgYcLNfDMlAjOcl7Fv2PfTU+uL7lU5IEnPvScFT1MGEeb9gzjg1Zq4jpv9xAMeOX4VH8mvYT68L+7njMPLX8wiVdhw+V8MOGGI8Fh3fv0YIlyQ1rVQ8NFQdDOPxHfH+XjCX9uXwGooRc/0UzgV9QK6UXSTZvwv/h8WTCuzfY8e410lcffYKrhtUIKc9rHq2oUFzqGp1hnYHRTRk53kN0TQrAMfPRTCndGmqbn+SmOtYNWEtAiadgf9dB5y9+wpx9j+iRVQMktOzuaW+Eqn5jIcGCu2g1asjOig24tIoqhqCnDjsPvNPGADh5eM455nCpdYUrTD4f7tgbXEI9v8bAEUmhQ1wRxabwuzMlz/JFiVOjEFi8/6YOXsEOnBplVK3FfRMf8GivvUQfMQGF16mcW9UsbpN0KxZfW6GIy2tVDzUlW2GZtzcF8PjQ1mnBzopN+YSKoEnjx6TZkG3Zb3q2YZ66pj871VcWmEAeR6znxQ10UtHDaWvcVXsTxGSX96HfbAAvbTboJ4krQFa6M3Glr+H4Wlo3JcrcZekWD7joV6HyfjX5SRW9FFk5igqTxUHOSF8gnJgMIa98r2HncceIK7chQgxMiMf4PiW37DJ+igOb92Mfa5RRf6ZRBCG3YPt1j04fvU6HKz/xrYznoiXXIaLIQy6jA1G6mCf3eOZOCAi5j72LRwJTf352Ocegaj75pjZ5zuYrZiPJVdeM9+WieBrtjjulhfgYu03wtRkOY77ZUjm85H0ULjsW4Qh6u2gN3UTzvql5FWHCANwZcPET1Wv7gFwO7AGU/XaQd1wPixc3iI3Nwqu0j4rRR1FNXRRUYRCSwEEXFql1W+OtuoKzEQoXr2paRcbtQFBZngwEjoOh6FyAy6ttvHCiTNuiP5YzK0HpRGm+FWBx/zvUNS3oWqDXKovAmSGYfaPYyHPzCafOIObYfl1gKUjMdfwv6GjYXxOHuNMTTDXVBvPx7RFPUkAMcOFmCwIfU9g8Uhj2CsMw/Sx32HS1B6IWzYORr87Mf+IPPA1x2ChybC8L4y7DZtTAajbgAlkz+xx5FkyWg+aCRNJ1V6+htCcthyL+7WSzLWa/geOHNuJWdoFr5XDceOiFxqNWYYtv/ZB4Lk/MG3Bafiz/+V8LYxfOIureo3C07sBaDz8Z/y1birq3TuMld8vwW+HHqO+tM9Wt+xEvH2dxEx0gYFWc6bE6oOza0xgsnobzNeboO+Q1XAIErJF2bx7U1vMMERvExxu7oCRuixkR9siSMTdl5k+B6vN/8Z6kyEYsswBQZnlvnJhEOSyFxtr12Gz+V9Yyt7jMdoBF+Z4VghJgd/Z9Zhushrm5utg0vc7LHMIZC5T2E0IgovkXpU+NDc7wNX6Z+iz99FkB2ChfYBkmTxZiHHdhzkT5mL9jt9gZvo77H3ZfVQJJBb3LW3wPLmkg1nSdguR4H0JFiY9mXytBMM1jgiJeIJ9Jt2hOX0zjruG5a1vqfc3RUgPdYG12QDIsv8f6hOw5qwPhCUelooeAxnI9xqNn7SAgD0/YcIia7iEpeZdnPF7YeGcnky5Lk+J+QrpCHO1h9XGn5gLvLmwcWa22bQfs76yzG9bwC36DR7brsFYJq/xeJ1gtO0+4pkfIMI3eHLVFlvMRkJv8zk4752fdyzZZbY6I0ZavTJ7wVHsXiSTd4Pu4uTe1cxF5whsvnD94/6S1V8Ke8k6ciR5axPMVv+DM2f2YalhTxhOnSW592pq4YZkbjHqG8U+DF41ckjsNTtyLTaHiGMdiZk8+z8hTwzMn5J0bomPoh2IMZszMZiYe6QxCR9IoM0UNvcSGDuQaHaZHA9irgbCH76XeKWLCREFEbsJKswyumSVczy7BCHiYGJnpMyk9SfrXRPYDzFfvSDvewRriXOKiIjTAonLxRvEIzqTeT+COBirSd5XM/dglmZJS2MUW0d2lcwJEyKZtAXEIZpbUspy5f5sST5+Xo0YO0RwiSXJX/8Cvy9+T3xs5hMN8InWshskVpxAXNf3J1AzJx7sT4vDiP00FcKfzexrcRqJ8LpMNhsKmO/oQWZbXSf37LeTpZtukIjk+2S9Fv/jfhFH2JNp0CCzHd4Q5ogwuN/O/16JImnpnsRyxHxiF/JB8q440YksFTDHdYIdCRFJkj5ub6H9X4iIpLhuIloftzGbRNibEvDNJPtSLEwm8T42ZDzzHfxei8hh1zCSlv2GOC41IJBfQhyZPElILkl6tIMY9t1O3FNyJd8qTrlPNnThF1n/ovL3r4DojplBjI2NJa8fx+gSvpR88HEbythucewNsozZt/KmDuRt4j2ywWgLcU3KW6+P8vN3gfXLz0d8w7Xk9P0nxMP9KrE07sGsnyHZ4BqXd1wquC7S5ZI0nxPErBebL5i8yO9PFlg9INE5eUc+T2n5ip2PI86re+XlK+vHJI75bE7ICTKNzycqzHE64vOeWd8PJMRuNrMvjYiVbzrz//qGeDhsIIPzt9E9nKSlvSZ3zH8g8lAmwy09ufNJ8bwnDrUjRh+3O5cIk98x/wc/SI5dL7NDxPVNCsmOciRL2f1u5sj8X7CfEpE0922kF0yJfUQ2+y0k3X0r6VIon1PfsqoryYnDcMenBfRa1AWvhR4mmPRgEpPhvusc3JLKKrqI8EEo/b6R8PZ13A/OAIl6jmuXwpkUWbSQk9yGB3gN0ESOrZd/wFwBBzPX6QU0VoBc4zrg8TVhOGEUdAW1tUopXyDsNy5grj6/h6FGW/T5NxUTrS7g2p/D0ZLXCG31x2DpQn20k+EWZwjdQhEtKnBvSuV7LDAdhUHTVmH3xlFQbtIG+tN+wcLebZhr+3zBcAuNL2d1VS7iXOyw6Vk0PM/vh4WFBXbauiJJSR7CSzfx8E15S3M8NGqri2lLJ6F3O+7Ys4QBCI3OBK9JMygq5N2HajV1NkwGqIBfTwm6A7oxWdAbAZFM2SjHH2c27kPSxCHo0TRva3hNVaHTM68UX7aCDU+O4siRPdg4vqR7j2VvN6/lYCzdMheKR37Dj5P3Acvno798gYPD+pi/i1LDpEULMX2gPnT7jMHiv1bjB/5d7LJ1wzs2JBVS2WMgA37nmfjXxQWO5nPQi/kfO7CQyRvz7eD7scVuafmKmWDynZxiE2ZCH+PG66JFXR7qttOCXishwjsZYmRnOebINkQ77c5oxeRfr9D3zP9rO+ga6KAd86lW303G933ag89Xw9BfV2FTXyFu27rAP6vYRkrwGjaBHDfNrn+TZs2h0KwpM90RU+dNx4B2TVFPSQcD9Fsh+XYAIiWbkYHABzfxDPVRj1k/Nq811u6N7wQVyedUTVZFQY4g+9V9+Gp3RQtJPmkJg3Gj8u4rxVzAsdslPE7wUSOo9ugDLXYyKyevpVtWBlLZRlx8JbSSrwdRXCQ82PdLEB4UjUpWPNUS+Sfh87j7Og1pHvbYbjYcHfjs2acxVMeuwa4FbRFw9gB2HnSET6qUf18Z5h9dpsAt+3pqGLtpCxa0fY2z1ntx8Jo3Urm3yicTkQHeSB44DUtWrsCKFexrC455JIGQE5ilWt4LDx7qqY7Fpl0maBtwEdY7D+OaTyL3XvmIw57i4u360OnQ6mNVW+UxJ+sWvTBppi7kG0pr4lCe7WZO7uOX4G+zJrgXqIxeHeWZb60cXlsdDOsr+BRcCvm8Y8Dja2HsioNw8XTAakN5BB9dhO8330OS5B+6nPmqXHLwIbuUz9Zvhx5DmTOE92u8KfOiuSLqQaFVG+ZvIPzfcFWYjeXQorEa9JUVClzcUd+qKgpyKXh+JwKtsp7g4oULuHDhEu4kt8XUXuyduRCc3nsVL7NLC3N10NRgLvZvGA2+60M8i2YC3Ct33IlUhuFaU4xQrg+ZlsrQ45aWRkVTCWwzC0oaEYS+xzBn5AGkDJiN5QsmoEeLcrSAJCnwtf0FI/e+x4B5i7HASA8tuLcq5Kk/wtJKeRaiHNhWsLZzZmFvSm/MY0o9Rj0q1jRHnJbE5EQRcw0lKuOCq7waoMNUExgWLX0VVMZ2k4w4piSaC7W0w1i56z4XOCqhThM0a82UxNUUIFvSf3RFjoEoCGct70rukeVhSnWaE/GX9SYY8YUIOHgDzyT3IiuZryqlPho3ZQKyQAHNmlRlU4IGUBlrhi2GIdi55xSexacizvU6LrZbgMUj2lX6woOqOaokt5C4hzifPRrzJk/CpEnca/Jc/Lp4DPjsAo/OwuFJGeWsukrot2Atdi5QhfCxE+5Ed8RG97u4sKof5JmcxmvTE2MmqDALZiE1g3tOh2QhPYWd7o9ZAzWq4AqdlY33CalFWnV+4zKewnL6IlzuNQR9lcq7lwgynvyL6XMfo9eoXlCSVOVUVH20UO4AfsxFnLjztkBwESHVwxa778aVM+C8xxPLJZh7WQOj+rZBXS61ImQUWqELwuH6OBDJVRPlSlGO7SZJ8Dx4GDE/n8K5LcPwdvsWWD6Ir1wAFqfj/TsR+o7pCZVi/9GVOAYyjVDXyw4OfgU7QWCb6OugP1u725Cr2qtUvqok5oIrJiQB8kZ90aXESF45PPleMF39M6Z3EcHjmA0uxBvixJX/waC0Cxjqm1EFuSUDwVfvQMFQu8jzOw2g2n8EhkqmH2C/rTMipLaMYhFkBp3GwsFL8EJrKIb3NYCBgT66qTRHw/zqszodYPTbEgznh+OxbzRy2E8lh+D502RoLV0NM4PKluPqo4m8JBQjyeMh7t6xx8nnqV+1moLk5nD3F6uo5JGZivgoIZKfPoVXXALC3G7D1Z+56BAxFwkxwQhOZPdmUWJkpiQiChF4+sgHccy+drvhBn/mHVFWGmICQpBY5orVh/LACZil8RZHTOZhmfUVuHm4w/n4nzA7qYDJA1qU80o5CynxyUDySzzyikZy2CPccGXXJBdZ6dEICE4scx/xVAZj3kJdxBy2wcmX7yXLE2EMQiMzmOsaITJKuM9TOWVtd3OkeR7HtpjJWD1CG91nr8HG4a/x5/IDeFBia82SMKWpF06wz/kZFrO6Mr9cVGWOgTzadw7HynWH4R6ff8+OICfUGw9ilTF8zffo05Q5dVQqX5VfdkIK0iWHhSA38iEcLnfG1kWD0bIy11slYntK+Rcz/8zAsJF90W/afCyY1h+qkmp+qjaQ2cTgpishFUEOW2FmdgYh9fngt2gHLSVZ5p+GfWbtPi5euoSzt70k98oyvUKQ1LQ9OndphKDDu7HR2ReZSMH7Rh0xqL8mxO4HMMvqKjzOW2Pnzp3cazssr4agvro+9FWboZFSL0yc3h05Dx8jKC0O/m4vkTP5L+xbMgit6xLmN6/C0twaroHsCTEBmU0V0U5VHUqybIbNRsz9g9jy5zkEZjJvv+ej8yADdGmugLYdmiPd1xv37oVBpttkLJrcHM8t/8af99jm59w66hC4/Lsbh568kWw3UeyB/t0+4O7eXdjhyi4nQm4zdRj0lkPQcWvsu8luN5fWhcDV5gBOPnzNrIUYDdt0RZ/e7SBb9J+VbQrveA2OzNXkAY9wtkyJNwk8yDcSo07z9tx2fMJ2O3X5lC1s/nFEcGYCwlPqQq6RHNpotEbjgt/dqDU6tM/Ak8Psc4VBaNhzHKb14+GejR1c05tAMfkFHM/ehi9TGmgm4KOhvDLayzdAo7bt0D7xMQ7v3IMzPvXQc8oE9BO/gM2BB/igoYyGIQ9x8fh1eEs+p4CWLQiCnRxw2q5AmvZwTBunBXHwZezcvR9HTvujjt50rF81Bh0a8pAZxpy8ztjDjskn73KbQaDYEu2Krj+aMMdIHolPjmPntnPwadgDU6bpQnzvMA645qDHUBUkOJ6ANfMdiY1aoU2bNpB//xD2R0/htncUcwyU0b1HHwwY3R/ambexddY6HPd4jsf+75AZFY3G3dujsbAuBJ1UIF+gxFp4/6YgKZvZJ/X4RfYv23xdyjb06IfRw5h8XWy7B4P3yBablhxEVt8pGGugzPx2LIL9n+LyhfN4ENMAyh000LFZHB44nC28L9upQtCa+f66obi05wyex0fB/941XAltj8Wb58KgRd0Krgt7DKRd5/IginyMO889cMPidN7v3D2OjX+/QLcNe7B9Xi8o1GF2QGn56oMSNBqG4r7DZbgG50CgLoCgJZM/rp7DybOuCH7fGK2V26NtvWA4njmLi66vkCKvBBWm1KnRJAKXdp6FT70UBN/1gL/fbRw5/x7fHdwK485NwcsMg1uhfSMPfvZbPLp2rsB2t0ALGV+cPniMyQPxaNSqJdq0a4r3rudw9Mi1vM+paqNH11YgkU9x4/hW/LVjP6x3b8Mff/zBvHbiVAAfeoN0oVyl1aPUl1ZjxpMjwgBc3rEWK/66VLxLKMFaOAdsxhD26pGiqNot5gJMlCbjobkHAlboVqp6uvzY+4pnYPFQAwtGNUK0pOTKlFpT3iH8+UXY8ZfB0awLbYDyDashUSMVL0/8hfXxJrifI2af3eNe2Uhyt4BhZjZySqzqpCiKqhwSfxvrJzqj0+juELTrAl1dXealhz5DxmLa5OHo0qRBOavUqZqq5hSNsjOQmByFiOg0rtGHGJnJkQh4mYLeh+ZjkAK9lqIoqmqJ48PhEXwfpw5fgFtQguTcQ4QR8Lxpi01HAZOJHWrQSZKqjBpTXQmSiYTXAfAPfYP4dBETfpughbIyVDpqQplfvRUWFEXVDOS9Dy7+sw1rfj+FYF0zWK42wcQJvaFcr5rKUyQFQZf/wYbN+3HGM4ZJ4EPNcCZMTWdjzg+9IahUq2KqJqk5QY6iKIqiqhgtiVMURVG1Fg1yFEVRVK312dWV7NhtFEVRFPUllTd00XtyFEVRVK1FqyspiqKoWosGOYqiKKrWokGOoiiKqrVokKMoiqJqLRrkKIqiqFqLtq6kKoQdfuaGawgyuXk0VMPA0TpQpE+SUBRVA9EgR1WYOMgWoztew0RfO5hpN+FSKYqiah5aXfmtyk1A0IObuHTZEzFiLu2zpCLI5QquurxApLC00alFeB/mh2c6BuilVngseIqiqJqGluS+Oewgj/ZYuewWlBfMx/eDekFTsQH33mfKjYefyyUc/Ps65H7bh/VD20oZsDIJbhvGYlrWZgRsH4KmXOqXx+yHIBecdfJm1kgByh3U0LVPH2iXuS/S4Wttgj4WiRgzdgB02zYFT/wW9/62xLUOxlg/vSuzTblIjXiC60cCoHfaGdZjlbjPUhT1zWGD3NeXRaI9HMmxzTOIBrNK7GqBP5ws+fcMcQ5M4Zb5SnJCicNSK+KRw81/bbmviFV/ZdLX8gWz16pDDol1XELk5ZcTp8RcLq0Aye+rESO7YCLmkr4GcfQ1smnvU5KSFk7c7TeS8RpGxPxZEvduKUT+xGbyGuIYlcklMN8VYU+mQZ70t3pFPm1xCvEwn0nWuyZy8xRFfYtqSHVlfQh0x8J4xWKYqHBJY+ZiudlUDNH8emUFdqwpH5sNmOco5BJqAJIFYUx9qLdtzuy16lAXCoK2UEgWIj2reCGfRLyA04MuGKWrVGDEZKZU9S4Owi9YJyCOC8HDhA9Ak/boM20TLgddwgo9ee7dkolfP8HjYTMxUim/xCdGWrA3XNEBfTVb49PQvPUhq9ABKq1olSxFfctq1j05mXpokH+WaVAPX3W8QibA+R5ZiUlmJ5DMJVEiJAcxAUG5Ozq3b8SlMXICcXafG5K42S9BRkMPgy7vxkHPJEnRv3wy8fpBCPoMUUc9LoVNexvkhxh0Q08NOS6NlYu0ZD7aKH5akqKob8830PBEDGHQWSzVV5CMeMAzOYcgv/PYMFUfsuojsXDffcTkMqc5cQw8jq7GEFlmGZ46TOxuw8liLvRllaA3dT1sH0dLhrZnl3PfbQpN9rt4hrDwFDJJD/GPWb+87+eZ4UJMLkTBN7Dn+D0Es5+JtcdGUxP8dNyPOc0T5EY6YePYntCfYwvv1FIaabC/9fd0KEi+VxNTt1yAd0IGErwvYAuz/kZ/uFRRo5EvhQn8Dx8BkwzQuUn+FUgWom+ewQvdXlD+khcljXUw5dfG+GPW37gWncUlloUppfadhfEaDbl5BomGp9NzoL8+uioVDGj1oDR8AnTlP5XtKIr69nwDQa4O+JrfYdZUnbxZ31twitTEvL9WY169R7D+dQm2O8cxiwmg9+NUfNeKXSgWD68HgD/TEve8LND1zmbMHb4SdkEZkuUMpo+DgeTL8tQR9MOC+ROhxs2zZDS/x5+Lh+TNtJqOP44cw8FZ2pBhwlz8s0v489oLPDtyBFf9SqnKZH/r55+xSIvPzIhRV70Huik2hqLOYAzsORtrVxpCUNVHIDcKrvsWYYi6LBe0C7wUVuBmUmktJ0vGPh933cEeDk7haJUZgLsXLuCCgx32LpuKgf/LxNgBBasvq1sW4r1v4corAr0cKxivOI+QnPKU5+pCUUuj8DN9aRHweRoJZcPOaF8onjWAoJsmff6Por5x30CQK6LzaEwZ2Q3tOupjgD4b0bxx9dXbvFLaR63Qb+oE9Bfw0VhtMCZP1QKEV7D7nDeYMPeZZNDCYAq2jO+BXqamGKvNBrBSNO2G737UYyZC4Hj5KSLZc3F2JAJkddGtcdWeQYnwJWznT8WmqL7Y6hKF7Dh37J3WBQbmT5FOCEiSBUYqcGdyIsTb8MQi+61kPEUdfDf5Z+x5Gg1/6yWYPGkSJk02xq+7L+N10HaMbFG8HWb1yEKMswXmW6Zg9F+2OLljFnDaGsceV66yVBTmg9sxGhjavT3o3TeKqn2+vSBXYU0hUG/N/BXCx9Ufbz+7epCHuoKhWHf5OZ7azoFO07Kqs+TQc+wk9GWmhI634B6ZhWx/H2TrdqzESVWEVPfrOFZnGL7r3oJLy5eKl7Yb8TuW4OjmH9CnXVPUa6GH76f2g/spdwQXKcCJ/E/gh3EH4ZFRvAQko6yF4fIPcdsztgL3u74EgkzfYzCbFQXjzTPQmd8Qgv7fYZq8F66+eMvsnYrKQsTLp3gBbfTWUvyCJVGKor6U/0CQKyAkCWlf/B4YD/U7DcC0vvJMlLuPy+7BCPISQbdbwUYOZREj1fMUNq2aiSEzI7DsynZM7VDgvhKDxLnCelMs5s0ZhnYfW+yIkJkuvTpVRtsMbq/Woo+U0iSv5WiYP9gAuUPzMcf8GC55xjBr8AkRRiM8obz3wYojqU9gMf1feFc0KpFo3Nn/L0J/mYVR3P0znoIAagr10KR+Ze6dvUeQpw9QtCENRVG1xn8ryOkpo+XXaEdQXwPDZhkyEyFwPG4J2w8dK1hVWQdNdX/A7ytXYdnk1/h720X4CQuFHWQEeuAaU17s17lg8ExDmE8ABMO7QDV/u3Pf4u7BfbBc/TM2ub6TXlIjQrx57AzXZqMwfcx3GKsrKJBRMuB/4heMO/C84lW/Qm+c2boCxkaz8YdHBtj2QhWSFgi3y8BQvQ6fSsEZKYjPKNr8v5yyIvHqXgj4Q7tBvYqrjimKqhlqf5AjSXjjG8VMyKNv345oVelzGUHu+0SkMGfm3BhnbDXqCf2FJ+FbahdY+ZpAa8gYjGCmhNdeo3n3ylRV8lC3RU/M/GM9Jt7ejB232G3KJ2bO9UlIVmgNxQLVpyTaFSeOK2PNDD2uZ5JcxDnZw6f3JPRvEQFnv4RCJbR8Iv/TMJubhHm//YSR2i2K9HrSGNpmF/HqN4OKbwNfB9PWWeCIxVxI2gdVVG4OsjLl0VYxv79MJrj7PcF1uXEYq6fApZUfifbHA29Z9B2g/Rn5gqKomqxmBTkRcxLLjxlZORW/0v8oFu63HyM0MxdC31s4ezkY0JiNtVM65z1A3VITBv3ZB4ff4ZW3PyIjnuPyOWfmU6xYRMVlMKdPHho04TOhkZHkhYd3nWB38gUyZESIdz+H3668wDNra1zyKd+D4nXUB+DHCSpAlxEYWqiqMhfxrlsxRPN7bHUp2oBGisZyaFEsushAsedgTBHFISH/kYbcSNzaewpk+xb8pJP/QD0PjbtPxXTF5zi8FZhioCK19EM+CBEDBTSTLRje2OB+Dwf3WWC16Q64xpe3yUp5lWM/yGtj2PT6CIlJySuBkhi4nfXA8D3z0b9pXlYm8fewaYgejLY65z1aUiLumT+ooLdGy/9YlQZF/XfUkP/tbMR4XoLNlj04Fs4lXbPBTuuzcAlKhtDvMg7Ze+elO57FMfdwRLmfh71jiCQp9roDLgelSqbztEJvvQbw2GqMwQYbEGpkDserGzFGwD0HJdMJ0/fvwRJDEey2/o6tZ6Og/t0PWLrlX9idnw3N1Ei8y6wDhUHzYLV0FNSSXXDi1GuoTxoAAU8GLXpNwIYxPdBr9iyM7FhG68p8ddpj0PRh0Jk+uEhVZRbi/J7jWbADfltxAb4Vbz0hwVMagy3HOuCu+X4ctz8M89+PInzEduz7URuf7t7JgN9WCeSFM87ojcNQ5ZTy31sj0XDa/xq9jQeiReAT+MVnM4k5iLm5DaYmJjAp8fUTNt18mxeUSlWO/cBri1HrN6D7g33YaXcS1hv34tXQv/HniPzHFwhy4gLh/swTV36zwDnf4hWqJNkTJy0sYLFlFcx+O4VkvIXbyb2wsNiJg27R5VhPiqK+KXm9e9USOR7EXI09T6kRY4cILrHmyPGwIebuydxcEUJXssHYnrwpq0NIyTZ+zva9I05LBhNTh9fknaM52euVxqV/kuNhTtSwgDhEF+iwU5xGIsNiyFu2X8u+e4lXVuV7rpR8v5q59P5Ay7sfSpVIXDesJPZvqqd3T4qivh20lqZaZSLC5Sj2nfXGe5KJ0MCG6C+tVWXuWzjvvQ/N38agXbXfG2oCVd2eaOB/DWczRsG0WzlLojw+2rYX4cW1B9CbNRDKcZFIqHx9snRVsh/Y5+jscF1zNozaVU/vnhRFfTtqUZAjyE16h7eSGqokBPuHIamqT8IVJQrEpRWL8evqq3j19hGuZXZGz2Kt+Ahy3kZDZtqvmKFZjoDDawC+QIR379OlNhopGx+as3bC6rdfsXhqF/CLBZO8RixSW04m++DONX2YjZPDI6tbiBJXZXVlBfdDSXLe4Y3MOPw2o2A1LUVR/1W1Zzw5URhu7nPAq4ItFloZYt4sXTTjZr88IYLO/Amz3xyBsWuxe9NM6DT73GcYshHjshNma15j6J+/YGJ/HSjzP/c7OexArO63YPvXCQgX7MGuyZqFRzrI9MPxxVaI6NEZGoN+wJTOcty9sHISR8DF6iw8gu/hbzvAeM1gaOhNxcIh7WjDD4qiqgUdNLVGY0qniXFIkWuJ5kWHZGAD0mNP+CUqoIt+e7Ru3VJKqawi2JHB7yEIytDR71Z1gZOiKOorokGuxmJHAD+Pfc86YrFJdyaAMaVCh92wClRG/7YJeBaqAuMVE6HNr4Pc6DuwPCODGYsNIfiq4xN9y7KYEvJBWN5LRb03TxHSdRl2Lh1E9ydFfeNoLVENRZIfYKeVCFNn6jABjiAn6CxWnVDBr2tnY7LxYixQu4F1ZwORwz4krjQEpjoe2OrwmpmnKkMccQXbnuph3R+/4S+r39HzwlL8diWyHPcSKYqqyWiQq5GEeHn8BETTRkKtHluS+IBglyvw6afNjdnWAMraneBzxJXreFkGCoMnQt/hKFwqOZTOl0GQG++FSwe2YbXZUth6p3PpBeTG4KVfwhcOLll4c98ZaaotIWkX1LgzvjNWwRG7+wivyhXJjMDLYO5BdoqivohvIMiJIHwXB+F/6cyQ/Rr3L7bGYB1JfyuMNEQG5D8lX4Dva0SmcEGtjjJ6j3qHS49K6I+y2mUhxvM2XAo9lF+YOOwMTAwGYKLZOuy4k4EmTYsMz8M+QmB+AqF8fsUatHw2pqSc8x6Xj95HqGR31od8y9aATywKXzPkIMbtKCw2m8GQHZxXdgjMNpvD4qQnksuz0xs0Bbl7EMd8aaCjqC+lZgU5kgK/s79hrHonGE6dDEN1BagbjsU4Qws8TP6aJRSCzLC7sLVYDRNDTahbeJbd/dZnILGBeFRfFW35+YcnG+nJUroPY9LSs/JPl/XRWqUV7nlHMkt/eeKgk5itNwn/uxLEhDtpUvHC4SZabryGwPhMkNcHMU21AfcegyTBY8/fcOvPPt+W3/ifucDxO4+NSzfB+sxp2GxcjJ/3ciPBV6mG0Jxjj6Qbc6DJtrdh1sX/qS+0ZuhDo1AcrgfBgNlY8etU6MsCgp9/x47fV2LFTF3Ilycq85pBx9QIMru24WJEJpdIUVR1qkFBjrlKvvYHJswNx6Trnrh71gF3A/xhP70togJSC5zMvwYeGqoOhvH4jnh/L5hLqz6iuEh4tG4G2Y9HRwb1G3FdkhXEr4/6HxtG1EFjOQXkBEWjcsOHfg6mJJT0DkEQwvvEPfhIO1ZZfnC63RvzZwyEpmKB4CbBfD74Erb5D8FP/Vt87KIrN+IyVk67B51Vv8Fs2g+Y+8dmzM3eDZM9T5FabdmBbYByCHvj5uH8qn5cx9YFEWQFP8fNGA2M7K0OJtZVTD0NTP65FQ79+xBJXzNLU9R/RA0Kckl4eccFwYqdoZ0/tlfdVtD7aT3+Nn2H0OivfeXLQ13ZZl/pmbtm6NC9I0RZOUzZhsWcaDOEyO6ujQ75I31/VbmIe/MakgpV7wd4FvJBkvoJs74+7ng2sT86Sl3dJDw+4Yh2U/tC8LFElA7fS7aw7jkEBtzYcewAtDqG/RG69XQ1dBDNYntL2Ye/nvaB1cHpaJUQK6WaPBvRfl7wrvRAqzw07jYcRi9O4lpY5cfkoyiqfGpWdSUr/CrO3I78VB3Ia4sRv0yGQiX796g5UhHksA5D2Hs5POZluAanvGORGnQdW6Z2h76ZNdxj8ioa67bTwrDwOHyqoW0EjSHjofPAD28kuyEbceGR6Gk6EBofg4YIyTFv0UxXDS25lC8nA1Gv62Ov3Xb0hytOuoZywTjfB4Q8C0X/Xu2kjnqAVG9cPa6GUb3yS3EMUTjczz2CWtf2KDgGel2lDuiX/ABuPu+5lKrCluDscCptLHasGQqBTCRu7L+PeO7dT6pgoNV6HTBwYipO3Av75nM1RdV0NSjIKaLX+HHQgjv2/DATi6xcECYZq60O+LqzMEc3v+KIvU9zDmumz8Fq87+x3mQIhixzQFAmc8mdGQbXk/9go9lIqM86COerFjDVV2KCSicYbbuH6Gh32K6eAHU2yKh/j21ubCMN5vsinuKq7RaYDRmLzQ5XsNe0H2S5ZUof/oYdfuY+9q1dh83mf2Hp2K5QN9oBlxhpV+hNoTlpBbauZUeVY7yrh9bKimiqqg4V9cU4ZDEfBgKuf5Hm6tBv7IuAuPxf5qGe5lTsmBcFq7+PwsFuN/b6fYcdMzrhUyVmOiIC4jC0SxvpgaQ6iSLh5dwCnceOwsz+wANrJ3gVrLIUR+DxVXn01JDWXRdX/aepDdWCvcGkxyEsJJmbKSoaXuHSx8KTKjcKrvsWYYi6bN4FRsGXwgrcTMpEjNMmGBn9hBUTO0G2DpNeRwO/NW6LlkWLavkDrX6nB60mFS/H5WmItpqaeHXLG1G0ypKiqhf7MHiNIX5PfOwWk1585szHrBq/10Ji9SiKFOqsPuU+Wa/FJ2rmHpJ0cYQ9mQYNMtvhDWE7rhe/dyarlZnPa8wj1s/eMct8ICF2swkfKqSX2THik5ZLSE4gsZumRtDfivjm5pK0CA/isH4U85vKxHD1SeL+5j1JC71FzKdoEPAnEEuvFMlPk2gHYsysV/5vk3RPYjliPrEL+SB5W5zoRJYKmPWeYEdCRJKkYsSxN8gyZv3Z3xpufos8trEgJ1+nc+/myyZRDsvITPtQyTaVS/ojsnn0LuKR/lnd91cOu1+MHUg0SSe+VkbMtg0n5h7cPmN9fF+aHObtBUR+iRNJ5FIkiu7rfCWll0Cc5k1sZvfljmsKyY5zJ3undSEG5k+Zta04UaANGQEBGWHjT0o4xOWS62tF+pc0EgNFUVWmZlVX8uTQedZuuHhehfnsvsAzKyzsOxbzbV9+ujfSqA30p/2Chb0LlliC4RYaL6ki4zWRgyJbIDIYjfF6rVCXuWpup90ZrZilOw03RGe2u6q6StDWUwa8/BCaBPCVdWDQvT3zITV8N2U8+rSTA191GH79bTH6Cu/A9ra0FoO5iHOxw6Zn0fA8vx8WFhbYaeuKJCV5CC/dxMM30u+38FoOxtJNMyGPSNxeORdbMQZT1YqOgloPSuMWYtyDU7j1sTRXGiF8j19GnfWzpHQALUXuW7hs/T6vRCvbD6aWtxAqbYTzXE9YmF1ADDcrnRip/l5IHKTN7OPG6DhwFPrjNnad9UDewwQF35cmE9GhgVBoy5RquZSqk4qXthvxO5bg6OYfmOPaFPVa6OH7qf3gfsqde8awIkR4H+aHZ0w+Gagt+KxqEBn5lugQG4GYr9pqmKJqv5p3T44JRnzNMVhhex2eDutgyH+Bo3MXYvPdOEnxDvXUMHbTFixo+xpnrffi4DVv7mRaCcJsZJfYHJ2H+urdMVRZCO9XEVJaLGYiMsAbyQOnYcnKFVixgn1twTGPJKZ0fAKzCjaPL4QJukY/Y+t4FWY6Em5uLxEtbR3qaWDqtnFIPH4lryq2RLmIdzsLF41FWGlQnoYQSXDfvgrH+fNwJT4TOaH/YFy6HX6ctw+uhapZCXJDveEu1wxNuBTp0uDnHoexffI6WZbRGgzTEQLEHLoOd8lDZhkIfv4Gg3XaViyzNWmG1gJuuhgB1BSalPl9JM4V1ptiMW/OMLT72ApVhMz0kkZzFyHVwxLT93lLLpiKS4Hvw0dIlu8Nvc8ZKSFfqfmPoqiqUGOCnCjoAixdYvICGYsp1WlO+g3WljPAxyMcvPICkjs0hDnR2P6CkXvfY8C8xVhgpFeoYUKVatAYTZlSoaB1KSf6p/4IS6to84G6kO3QGT2YqeSje7DHucB2F8Djd8OM5ZOg2bC00FUXLQbMweIhbZmpckj1wqXnw7D255HQVmyAui26Y9I6Gzj8DPw7mSlZXvBCfG4WEvxu4t9td9BzQvfSS1hZwXjwrAcGduRKo3XUMXqBEfjJV2B/LwpE/Bbe99qjp0bR0moZmrSEqpp8gRaleUhmOhNqWqJTG/kyMi9BRqAHrqEv+nUuOIZfGsJ8AiAY3gWqH6sCxBB6n8PWVbNhNOMPeGTlSj0eEMch+Ek4MFAHmvIF73ymwvvgFmxcMQNzbC7DYZ8lbOwPYM0c82pqBUpRVHnVmCAnIwt4WTrCr1CppTE66PSQVHM1bFCPOYkzJ64n/2L63MfoNaoXlKq581ySFIOQpC4wGtBRyvNQ9dFCuQP4MRdx4k7B8dLY0oAtdueXPIsRwveUM5os+wcWq/sy8+7Y/ccJPEn9QtVW6e+RYqCDDoX2XQMIBi7G4RPGaOL4CzrUa4gW4w9DOGsHVhsocMtII0bqUyfcG9WvwKMBdSEYNgU/C4JxdOdlvIz0xf3m3dGpaUlZrSGUOnRE0tuEwiVymbboPkoH4a/eIO7jjiTIjo2EN18XBp3ye4MpSd64eMkKraHY9FNAItGuOHFcGWtm6BUI3nXA15mCdTusYPGTDpcmReJrPH2UBp3+naBUcPeleuJK+mDM6tUQRw48h/z0XzB3+kxM0b4PGzfplb2i5DiEqqmjfYtyXZpQFFVJNSbIoUV7dPbdhnX7HzIlifyzWgZCvV8glj+BOymJkZmSiChEMCcbH8Qlh8Dthhv8mSVFWWmICQhBovTIUk7pSEj5wAWnTETevYrLAxZj0TAlKdWA9aE8cAJmabzFEZN5WGZ9BW4e7nA+/ifMTipg8oACzeE/EjElhtOwxVCMadcehr8uhyl7rna3wt/n2c6WvwDBJFiv0JVS6pMBv8MILDnyEGmEgLw+j3UllQ5zkxCTmMVEjBi4ngrE2IEdCrfobKqPGWvGAI8OYtPKI6Xcj2PJQEGpHeT8o5BQqEAsB90fzGDqew+PIrlnJEkyXrg8gepaU4xQzmuJSuLvYdOQfjA97sccsYJkoNhzMKaI4pCQfwGRG4lbe0+BbN+Cn3QqegeQID3AA9eFHTGypwpzWVBAYx3MM1ZBxPNAjDD7AYPZwMWWYG9nQFNJ2u+Ikf4uAm8GdIBSoR1HUVRVk9nE4Ka/Ll42Ip/cxXP/a7A44oH4OF/cPb4Dfz/RxIbDf2KeniITkeugUdt2aJ/4GId37sEZn3roOWUC+olfwObAA3zQUEbDQDc4nHVFMARQV2qNljLBuHrmDM66vsL7hopQ7iBAvaCbOGPvCNfA95Bv1wbKaipo8sYJO8++RL33Prj7wg9+t0/hfNwIHNwzE50b85AZ9hAOZ+xhd9sL73KbQaDYEu169MPoYZoQB1/Gzt37ceS0P+roTcf6VWPQoWHR64d0hDlbYZXJfiSq9UbPnsrICXHF7fPX4S18j0C3FCiNGQq9ljV9POtMBB2dC9VRO+Hx/BrONJmPHbM7o3Br+vpo3ak96t0/hn9vNsdPG+ain1JJ9yh5qNs4A+Gbn0Bx9lCoN8rfbzzIyHfC0MGZOGdxEr7J8fC9cBxOzebCcukAtJDJ+0GS6IkT+w/gyHNVTJnXG60L7HaebAfo93wD+2PuiEnwwa1TTB4Z8T+sNuqY1xFzMdmIeXQa5zECi/oqcVeAbFWmA/aeuIBLJ+1xKzgDzeRFiA7JhbKeKuTY76nTCLINInDzL1coz54j2VZx8BWs3dEY03/vBV4SgVzT+gUuej4g5OZheHaYhgU9K/NAOUVR5ZbXyPK/Lq8ZOzCYmHsw5RiqFFkk2nkrGa/GJ3zDTeROdBaXXlQuSfO9So5c9SdpZT3VII4hTktHk1XO8VxCRSUS190niW8uN1tpacTDfHC5H08oSBxqR4zklxOnRHYlPpBAmylEsPQGifY6RNY5vi38KIjIn9iMmEasfIVcAkVR1aVocYOiylAfgiFrcfl1GtJcNmJo/gPsxciArz0Gs8dolT1iOa8VBs2bgKCTroiuRHUzSfLGQxlNqHy1qj+C7KRYRIzqhU6SBil1Ia/eHTpJrjh+oyXmjixY3U2Q8eIGznWejUmdSm+3SlHU56NBjqoBeGio/T1+6+SCgw/iuXui5UTe4cHpSAz+sQcq2H6zCvHQQHcFnp+ahnaSaFYXLQauw41jW7FqzXh0kIwJyMkJhsO/sZi/dHDx3lQoiqpyNeee3FcjwnvfqzhodQIuvkFI4slCXrENNNvKFW5MQVUvXiMo6Wsj7eAR+GvqQ0uunK0OeXy019dB24/38ipHHOmCfw+dx9179/E4PBMy0W+RpdwZquVdj/Ig7+FtcwrR05ZiusaXHjOPov6beGydJTdNUV8fOzJ4UD101a6FDTLYkcEj5dBVQ44GOIr6QmiQoyiKomotek+OoiiKqrVokKMoiqJqLRrk/vNyEON2FBY7lmKsQt6oBCbr/4aFhT08aQ/5FEV942rWPbncaDw+fQz2jzKhNbA1Yjyy0GuBKcZoVteN+izmBO+AmxiEHwe0kd6F1ZeQG4mbv/+OV1P+wQrdcvRunxuGCytvor25GXSraqWTbmKp+iicne+MgO1DKjHsTSqCXK7hyjFzrLR7AaiZwyNgRdWtH0VRVCXUoJJcFkJPr8Zw43W4qjYepjo8uOxaj7Xn/PCBW6LKicJwY+tfsHvytki/h18C213UeVhsWIzpE6bhl+0RXHoZSAp8bDZgnmNJw8VUBkFW2CvcS9bAyN7qUjqjLo+m0BwyBTON9Ll5iqKor68GBblE+D30QP6pW0Z7Hm7Eh8N9dZ/qe8hXRgtzbvjDZUVvVMHoYBXE9nz/PVb8uQ/2h1agH5daKnaYoSMrMcnsRN6wQ1UmG9F+XvCGNnpr0b4UKYqqPWpIkHsHly2rsPPOW8lcrP1GmJrsxlM0A78uD0QYgru2FrA4fgVODgewZdtZeMZzA3wKA3Blw0QosKNc88xwISIcrvsWYYjmAJjue4j4qqyMJW9xdeFPsA368uU+lij4BvYcv4dgdibWHhtNTfDTcb+88dZIKsLuHsVWCztcdToP6y07ccYzFuUbzew9gjx9AOXu6Ny+EZdWHiIIg67BYuFIqMvqY/qWS/BLzubeK6zUY0hRFFVd2HtyNUMEcTBWY0NSoQ5yxWnexGZ2D4Lh1sQ3W8x15tuD8A1+JzeiMvMWinYgxszngBFkwYZd5PC/S0gvdr6HJfGS1mlvTiRxsbYkh63WkGnLrpHosjoQ5ohC7MiE/nuJV1Y5P1BekvUvT+fQ+R1JM9umZk48Pu6k98THZj7RwCSu099ckui0kgj4hmT1jTdldzac6U42q4DwZzuUe1+wxLE3yDItPoH8j8T61XvmWHkR62kaxdavXMeQoiiqGtTw1pVZCLtojiVHX0DQQwNt2T4AefLQ7KkNofseLLN+UnigTSRCbtAszDX7AydcruDqoSnoXKxvLhGSXC/DR88EpkM0kLz7CtzflaO8Q97h3kEHKCwbj671a1aFnjjsCn5fcgjBgo7QbMuWxGQgr9kV+sK72L7sCNxTSx+5XPzGD67hAvQdoI1W5d60TARftcXuACH4RhMxvrMcePzOGD91CPd+vooeQ4qiqKpTs4McicGzaw8k9+kat5Dj7s3JoGET9g6aEAHHH8Avq2B9pCxayDVkTqJy0DQchzG6AiktJhPg8VQWQ7rK4JXTBdwaoY8urcpoApgbDff9m2DZYCm2T2xfw3ZaDqKe3cUlyU5SgFzjvLXjNWwCOXYi4A5c/dIkadKJ8D7MD8+ggt4aLcu/bUzQf3HrmWSyVef2aFFScKzwMaQoiqo6NTvIiRIR6RHOzUgRHoHopIo+y9UKI9YYo3OuP27bh+CHOYbQKHEviJH6eC8m9NFD33UeEIUewfLZJjAxKe9rEfY+TuK+q7pkIS4yjJuWJgZB0aWVlVLg+/ARkuX7oh9TGiuMIMP7KHbeTeDmCyjr2OSrlmNIURRVPjU7yMk0h7KeCjcjhUo7KClUZqwA5uT98g6OveoLI4M2pbQmrIOmfRbgkI0lNozpir6mW2Bz7BiOlfu1H7/2UeC+q7o0QEtlVW5aGgE0lUp56k0ch+AnTBDqpQ3VZkX3ZQpeXo9Cx87NuPkC6jSBgpqAmylFtR1DiqKostXsIMcToNeY/pLm/dmpGUyZhSVCZjpb+cWH1qz+0G5Q7ptIBSTi8UUHRP04EYbKibi5+ST8SixMNEALnSnYdHgh6u/dgtNB6Vx6TUCQ+z4VTXoMxgTJThIig6v6I5npTIhiaA3DQO1SnnxLfI2nj2KgMlAb7QvlBua7I27BJoEpxbaQUp1bpzW0B3aUTMa+jin5kYZqO4YURVFlq9lBjgkwqkaLsHG4MiIf++FNDnMCJ8kIeu7HnLwXwtysdyV65mCIouBzuw7mT+mDFjEeeNq2BzTKKEzw+Hr4aXlr7Nh2EzFf7RYSDw2a8CHPTiZ54eFdJ9idfIEs9bH4baMR+JGv4Psmg3lThOSgV3gKAyw1N4VB05IOM0F6gAeuC3VgpKfK7O18TICLeYA9K6yhMEYXClJjkBx0p8yCERO9hGev4FaIEDnxj3Hy2M28tzNiEJPEPk5QTceQoiiqHGrIoKmpCLpiBfMdFxGYCSQn1YGiHHMyV2kHRVllGEwch745nngQlIhE/yd4kTMSO/YtxODWzGmZfU7Ochd2uAYgEwkIz2yC1u06oJOSbMnVkHUaoyHxwYPw9wj3bQKjOf3Rsm5ZpQkmwLRVRJ1dJxA3fDS6yH1+FVv+QJ23bzjiypOXCM1Mw/sQX7xt0hFdWjfkliqoDhq1bQeV9BC8uPcYwTKdMX3RJHRpKgslg+8wvW8mHj4IRlqiP9xeEEzesRVLBkvrrowgJ+w2/rU5jfMn7XErOBOKzQmifZ7i0SNXONltxoIZv+OMeDa2bRyF9lJLWjzINNfGoCHqkAk7heVr7RHUqDsmDNVES50JWDCrC5pmNYSisgIaNWxb+jGkKIqqJnQ8uQoRQRgZhmR5VSjz6X0kiqKomo4GOYqiKKrWquH35CiKoiiq8miQoyiKomotGuQoiqKoWosGOYqiKKrWog1P/rOyEONyEJb3UlHvzVOEdF2GnUsHQVDmoxSVwT53dxeWlvchqheBOyE6+H3nQgwU0McHKIqqXjTI/UeJI85h6am22LzaAE0/PIPFsPnwW3EFNpPaldLNGROuhCF4EaOIHhpypS5XiDgUZ5Y6ov3mRejTVAhPi+kY7jcfPjaToFQdMZWiKIpDqytrACIMwi3bfbCw2AfbM1dx1y++nIOdVlYW3tx3RppqSzRmg0zjzvjOWAVH7O4jvNRLHnbYnO3Y+bxinU6TNw9xNk0AJckICXLo/p0ROh+5AOdwOmgqRVHViwa5r41E4tpOVzT/3hhT+7fAm1Ob8Nf1UFTv2OMEOTnvcfnofYRK+uysD/mWrQGfWJQ6IIA4DPdOy+IHQ+Xyl+IY4pwcZFy+gDuheUFNRr4lOiAKsUk5knmKoqjqQqsrvzaRN/aOdkSP82sxoOlX6kWFxMFl7WT8Un8Lnvw5sIS+JAmyvfdjuLUqzv07Fi0rXc0oQpLLJvT7pS4OPlnPbDO9zqIoqvrQM8zXJtMe+oMe4q+DHkj9KpcbbAOUQ9gbNw/nV/UrpbPkdPjf90CfKX0+I8CxDVBcYLk3GSvPL0V/GuAoiqpm9CxTASTGEQsn2iJIzCVUCbY3/ylo/McybLwWUc334opiApzzPvz1tA+sDk5Hq4RYCEsKtBn+uO3QDiP1Kjs+HhvgnLHjr5cYZGUB41YpiBLSwVIpiqpetS7IkeTHOLB1N7aYzcE2t3BEudnBYq8tzpzeCpOJFnCLr2wYyULYnQvwMewJlSrba8yJP94bjld80FAvAXuMN+F0CDtUzmfKjYLrvkUYoi4LHo9X+KWwAjclN97YEpwdTqWNxY41QyGQicSN/fcRn/cNRbCDzDrj2ojv0KdY6Yv5Htd/sXCIZvHf4nXH0puxzDJsgLsHq1MZ+H7HUgwR8BB54yTuVvpYUBRFlRN7T672yCQhdn8Rm8BE4mtlRKAyhmy4GUFyJO9FEAdjLdLf6hXJlcxXjDj+NlnddzFxeJvFpXwuMcmJvkU2GP1CbHzeE1GUAzGV5xOt9fdJCrdEZYjTvInN7L7EcPVJ4v4mhWTHuZO907oQA/OnJJ1bhpBsEn1jDenFZ6IPG4G4l/J6VyLkligsgbiun0k2uydz8xzxe+JjM59oGa4lp93DSVr2O/J070wib2BBPNLF3ELMYtHXyLJegkK/BeWNxFX4aRmKoqjqUMuCHBPIltsQ39x3xGmJDhEsdSKJ+edRkT+xGaFSKMiJ06JIWHwmN1cSNhi5kb2zZ5AN998xc1XkgzexGt+LmDq8yftO8VviaNaFoIcl8apMFJZIIV6WE4hg9hnyJid/TXNItMOCz/veFGeyavBe4pVVcOvFJN1rLxkuWEDs33zg0hjRDsQYo4ill/RwSVEU9SXVsupKZUyymAPtzCA8vJCBkQM6QZ5rJEFi/eD2SADDzkrIa8OYAf8Tv2DcgefMVEmS8NjyR/TRHIB1r1IQarMKs01MYFLe15x/8DhV2g28XMTdscW60In4aRTXHJ8nB4GaItCkPupJlilOFGqPHzVVYbjlAd5zaQWROFdYb4rFvDnD0O5jzyUiZKYLuenKYNbV9SoeTxyATvULtDgh0XCxPoiAeTMxtt2nAV5JZjpSuGmKoqivLi/W1S65vlakP6YQm8D8EoaYCF03EmX55cQpsYLFmZxY4nVmE5k2bQdxji6r1Fde8cR5lS6RX8KUNLmU/DTBKucSqytF0bfIWsO+xNjGm6RxaZ+UtI2lfK84jUSGJXDVuSWQlDDnFNiXHKErWa+sQ5Y4veMSWCKm0LeWCARriXOKiEvLI473ItccHIhD/uuaF4mvsmIxRVGUdLWwdSVT8gjwhpeOPnTa5/eN+AFvfL0Q2Usbqs3qSBpBHNxngdWmO+BaVuOHui2hM/V3HF5ZH3tXnEVQNntL6XOJkJOVC4W2ip+a7GcEw/16E8wbq1NiM/46guHY6vIQx+Z0A59L+0SMjJQkJCu0hmKB5+1ItCtOHFfGmhl6xb5X5H8CP4w7CI+MkreJRD7A6bjBGKz+qbQmkZGCuGR5tFVswiUwyFvcOXELXdZ8X6yBCk9RB6O6vMeByScRpzUSk77TgWKlH0WgKIoqn1oY5N7D/8kz1BvcFaoN8usqo+Hp5A2d4d3QnhcNp/2v0dt4IFoEPoFffHbeMqWSAV/3RyxXO41tVyMlLSc+jwK6DRuCRiExSJJ8GROY3a7AafhaLOrfXLJExclAsedgTBHFISGVa5qfG4lbe0+BbN+Cn3SKh04ZbTO4vVqLPpK+vaTJRqS7GzC1P1SL5hTFbhgxhYeoBCG3P7IQc+swrMky7P+pBxpL0goS4X2YH57pGKCXWvF3KYqiqkPt6/GE7UGk1xQ8Xn0TJ6ep5t3vSrqJpeq/ocF5J2w3bIi3b4Tg+fyNrtvUcPfuIugUvNdUCpGfNQb/KY9Tp6dB+XNLIbnRcLexwrk0Nejzw/FEqI/FZiPRgf85vZ6wzfmPwPJGFjrrNME7rxg0HTEDMw3VwC+4vrlvcdf2Il6G+CN5zAZsHNhaejdd4mAcn7Ib9XfvwbR29bnEfOxjAa6wsnQG6ayFJu/8EdHUELNnDoKq1G1IgtuGsZiWtRkB24eU8tA5RVFU1al9QY6kIuxpMNC5O3eyJcjy3Ineg0OwIWgfJgnqMklRuPqzEfbq2MB+rDzErZWhWJ4hZogQkYHvId+xbeGg8U1hSo1X9+CM8g/oe3sBlvL/xj2zLlxjnMLEQbYYu7sljn5WN14ckQ+sB0+A009OuDhLvUJ9X1IURVVW7auu5DWFam/dAqWJLLzxfgrv7jrQaskEOFayD+5c04fZODk8srqFqPL2YMLjQ1nrWw5wLB4ad5+K6YrPcXgrMMVARWqAA4R45eSM9mN6oEUVbC+JeAGnB10wSlepQIATQfguruReViiKoj5TLbwnV1QSgp6+grJhZ7TPP5s3VobuSBn4X3ZCxowp6FbO6sraQQb8tkogL5xxRm8chiqnIDxBypA32a9x/2IHTBkoqIJSlwjJQd5wVe6Ozu0bcWmMnECc3efGHCGKoqjqUfuDnCgeoU9bYvZwbXxsB9hQG7MO7cNvP5thaucKDP5ZayTixR1vTDAbBsVHp+EYVXTIG4KM505wGDAcelXSiXIKfB8+AiYZoHOT/L2dheibZ/BCt9fn39+kKIoqAR1q5z9JiKDjG7E7oj20NYbAdEqXIlWwbKMSf/hBDd0E+Y9hVA5J8MaN+w9xa/tm3Oy5GptHKDOZToi3Dxyw95oW/nm4BSNbcNXIFEVRVYwGOYqiKKrW+g/ck6MoiqL+q2iQoyiKomotWl1JVVA6fK1N0MciEWPGDoBu26bgid/i3t+WuNbBGOund0VT5CI14gmuHwmA3mlnWI9V4j5LURT1ZdXCIMc2mniC07Zn8ShLAwOV4uAh1MMCs1HQ/KzeRGqg3Ejc/P13vJryD1boFu/NspjcMFxYeRPtzc2gW9m2HuIA2E49hpZ7N2GsUl6jFBJ5Bj+0W4goK9cCD5anwtPiZ1zuvRd/DihjNHFhEFyuXsaxDX/CLlgINXMPBKzQBW2OQlHU56p91ZXi1zj98w8w/v0F1IwmQwcvsGulBc75pHELVDUxUt3+QKeee+HNdRlZvcQQep+HxYbFmD5hGn7ZHsGll4GkwMdmA+Y5fs6wO+zufYLHw2ZiJBfg2PVJC/aGKzqgr2brAg+W14esQgeotCpHP5V8TQyZPh1GBq24BIqiqKpR+4JcYiAe3gnnZhpDe94JxMc7YnWfZlxaVUuCx1VHxA7sCOUvUlCsA77O91jx5z7YH1qBflxqqZgA53tkJSaZnUAyl1Q5mXj9IAR9hqgXGPMuE2+D/BCDbuipIcelsXKRlsxHG8WSRsejKIqqfrUryCW4YMsvO3FHUlgJhP3GBTDZ/hRQ5KMu24VU2D3Ybt2D41evw8H6b2w744n4XLa2likdBV3GBiN18Hg88EwcEBFzH/sWjoSm/nzsc49FiXW6kiFy0mE0sBPkuaSaRhR8A3uO30MwOxNrj42mJvjpuB+zRxhsX593j2KrhR2uOp2H9ZadOOMZy4QoaepCoe8sjNcoMOyOZISH50B/fXRVKhjQ6kFp+AToypcQ+ZnAG3R1NxYO0YSs3o/YcukVkqV2r1bacaMoiioDe0+uVol2IMbMZgGDiblH/tCiuSTN5yiZraFMhlu9ItlMijjRiSwVCIjB6uskKocdvTOH+egC9sxJMGoB2WBhTf5dMpCZ55Mell7MNxQmjnYlB8zNyfYlY4g8DIjx+u3E3PwQcY6oqoFVy0GyrQW3syQFtk3NnHjkj5Iqfk98bOYTDUwiVr5CJiGXJDqtJAK+IVl9403pg6nmS3EmqwQgyutdCfsN5ZNDYp1WEy1mfeSnHSKv0rJJ2qtDZJq85FqCqJl7cL9dnuNGURRVsv/GIwTiUFz8fROOBrdED83Wkqo2nrwaeurXhfv2rbB2L9J7orcCBs2fD7PNh+By8RwOTdEq1okxTzAAP61YjCm6zZDc3xirN67CihXzMERZWg8hqfC2XQ4TE5PyvX4+Cu9SBjKtKuKwK/h9ySEECzpCsy3bp6QM5DW7Ql94F9uXHYF7atk9V4vCfHA7RgNDu7eXMoZcCcSvcXWXHQKgAaOpI9CZXw/8LiMxdZwatwCnoseNoiiqiP9EkCNRz3HtEnufThYt5LiqNl4DNJFjx0h7gOOuwSjURXFjBcg1rgMeXxOGE0ZBt8Surd4jyNOncOfPUjWFzpydOHbsWPle/86GTokDmVaVHEQ9u4tLbNUut70sXsMmkNxZC7gDV7+yGutkIeLlU7yANnprKZa7D1AS5Y1bt2KYqTbo3F6hxM9V+LhRFEUV8Z8IcqK4SHhw09KEB0VXrif89CA8vJCF7/TVPnX+/M3IQlxkGDctTQyColO56ZLkBXkUHV2gDGUdj3zVdtwoivrP+E8EOZmWytDjpqVR0VRCGU9ySSV644u7kV2hr1mZT39tDdBSWZWblkYATaUyxu/OisSreyHgD+0G9QqUPOvIKqBIxaRU1XXcKIr67/hPBDlem54YM0GFmcpCakZ2XiLJQnoKO90fswZqMKf8ispB9KuneKCjD532zKdJDG7+dRTe2dLupdW0e3IEue9T0aTHYExgnyHPFiIjK+/3SGY6UtgJrWEYqC0rSSsJifbHA29Z9B2gjVYVqF2t07YTBnZhf/gdXseUXFqsnuNGUdR/CtcApfYooXVlyrPdZDhfUKSVHp9oLXUs3rqyYAvEEgmJl+UoAmMHEi35fhuy/WYU+aLt/crdupJtNbmcyLPbJj+TWN66Tmz23ybRokTyzNyI8Iu2roQBWepYVuvK/O80IOtdE7m08kongTYzmN8FkZ99krz+8IHEPdpNxvPzWlcKllwlsZJjUp7jRlEUVTKZTQxJtKsNhAG4YrkLO1wDkMmUR5J4spBrrAAV1RaQVeqFidO7I+fhYwSlxcHf7SVyJv+FfUsGoXVdAmHQVViaW8M1MBlITkBmU0W0U1WHkmxJLUrqoZl8XSTeeY73qb5wTx+AhePU0KC624swxJEu+PfQedy+4YgrT14iNDMN70N88bZJR3RpXeAZto/qoFHbdlBJD8GLe48RLNMZ0xdNQpemslAy+A7T+2bi4YNgpCX6w+0FweQdW7FkcBup3WqRZE+c+ucUbt29iAP/nIZnjBB16mcjIcATPiIV9GwvW44GKPXQvKsBhqjUQ9jJDVh7KgiNdIdjaNf20Jk0D7O6yCKroSKU5RujYanH7QvsbIqivmm0g2aKoiiq1vpP3JOjKIqi/ptokKMoiqJqLRrkKIqiqFqLBjmKoiiq1qJBjqIoiqq1aJCjKIqiai0a5KhagiA33guXDmzDarOlsPVO59ILyI3BS78EyRPnNUM6wl+GQkgf4qGoakODXAURYRzeCSXDjVJfTBZiPG/DJajkLsDEYWdgYjAAE83WYcedDDRpWuRR9ty3cDY/gVA+v9yjJZRPDmLcjsJisxkMZXngyQ6B2WZzWJz0RHKZwashFIkbLI69pIGOoqoJfRi8RCII/S5g86o/cT5dEz3xCuciBRijDKivOYs9I1txy30FmaFwOXUBN+9fh8PD73AmYAV0pXVPUkuIg2wxuuMSxJrfxZMVelL6q0yFp8USnGhlioWje0NTscgSJAkeOzfgau+N2DigxccgR4Q+OGd+FD6CnuhcLxj3PBXxw/p5GFji0EqlSHXBaq2hOD7LGQHbh6CMrq0LyEDI8d+xu8li7JmkKrWXGYqiKo+W5EpAYq5j1YS1CJh0Bv53HXD27ivE2f+IFlExSE7nOgv+Whp2wBDjsej4/jVCuKTaiyAn6R2CIIT3iXvw4TqSLiTLD063e2P+jIHFAxz7+eBL2OY/BD/1/xTgkBuGiyv/ByedX/GH2QxMm7sBO+dmYq2JFTxSK1pSJ8gKfo6bMRoY2VsdpXdrXVRjqE3+ASqHjsI1idYQUFRVo0FOKhGSX96HfbAAvbTbSEakZoemaaE3G1v+HoanoXHIlaR9RXWboFkzdvDQ2i4XcW9egx06Fd4P8CzkgyT1EybA+Ljj2cT+6Ci1m9EkPD7hiHZT+0LwMcIRZPtexU7rDhhroMQFPh4a6wzGxFAb2Li+Y5aoiGxE+3nBu4KDx37UWBvfGb3GvmuhKHssdoqiKoIGuVJ54cQZN0Tn5p/y6kFphCl+VeAxYZD6MjIQ9bo+9tptR3+44qRraJF9/wEhz0LRv1c7SI1xqd64elwNo3oVKMUxn3nt7oxHaupo36JABWHdlujQ7wMuuwWirDHRC6vc4LGfNEHHgQOQcMINr2mUo6gqRYOcVDKQ7zUaP2kBAXt+woRF1nAJS827uuf3wsI5PT/eF2Lv65xdYwKT1dtgvt4EfYeshkOQkHknHWGu9rDa+BOGqM+FjfMlWJj2gyxPFupGFnCLfoPHtmswVl0WPF4nGG27j3jmB4jwDZ5ctcUWs5HQ23wOznvnQ59t0MAus9UZMR8DblEEuTH3sW/tOmw2/wtLx3ZlfmcHXGKyuPdLIoIw7B7stizFdENN5neUoGe0FBYXvBBf4m99QaJIeDm3QOexozCzP/DA2gleBassxRF4fFUePTXY8emK4qoRNbWh2qxgCMzAu7C33HRxMV7heFeRYJM/eOx3etBqUuFynIRMW030ffUAL6JyuBSKoqoCDXIl4CkMxu/nrWHWC3h24GcM7TYGC60fFgkyiXiwYyGmne+KX7esxco//8CSlmcxe9stxJAmUB0wFB2zvHA35AUevBbA5NADJIdYQ8/lDxhPsEBA77VwfB2PELs+cFm3Gw7+Gcx38lA3+w3uHLiFQJcXiNf/nQlUr3HHvAfcfjOFyb8vmFO0FBkv8O/sk2g2fwN+X7keu+0sMO7Zahj9fBahJZ6wcxHvugM/rnVBjsYo/GJ+Gh4eDthi1AhPz95HSFoNKFbEBcFduQc6yatj4MyBgPct3PUpUM6K9cP95t3Rqam0rCxC0pvXiOjUBoqF3v6A9+/ec9NShCShIpsufvMSt9nBY/XV0ZxLq7AmLaGq9haRcWVdlFAUVRE0yJVIBvzOM/GviwsczeegFx7gwMJRGDTfDr4fHyFohLb6Y7B0oT7aFSgoCN1CEc0uwmsEOcUmzIQ+xo3XRYu6TABrpwW9VkKEdzLEyM5yTEhriHbandEKgfAKfQ8evx10DXTQjvlUq+8m4/s+7cHnq2Hor6uwqa8Qt21d4F+s8UUu4lzssOlZNDzP74eFhQV22roiSUkewks38fBNCSdOcRicDuXi1383Yu7UURigpwtdXQOMnLMNZ+2XoI98SWPplSL3LVy2fg91Htucvh9MLW8hVNojF7mesDC7gBhuVjoxUv29kDhIm9k/jdFx4Cj0x23sOuuBvIcJCr4vTSaiQwOh0FaxAq0dK0qE92F+eAY1DNQWVP4fSkYOLTsISx0pnaKoiqNBrgw8vhbGrjgIF08HrDaUR/DRRfh+8z0kSeJMY6iOXYNdC9oi4OwB7DzoCJ8Kt8zLl4MP2aV8tn479BiqxZRkXuNNsVZ4mYgM8EbywGlYsnIFVqxgX1twzCMJhJzALNUSmsTzGkNe1gv2f6/Dmi3mMF//M+bsdJfyfBdT4ru5Gt1Xu3DBpSRJcN++Csf583AlPhM5of9gXLodfpy3D66Fqk0JckO94S7XDOwlQMnS4Oceh7F92kkyqozWYJiOECDm0HW4S/ZBBoKfv8FgnbYVzMiN0Kx1M25aCjUFyJb7C1Pg+/ARkuV7Q09TWpVpRWSXngcoiqowGuSkEQXhrOVdyT2yPEypTnMi/rLeBCO+EAEHb+BZMnsyEkHoewxzRh5AyoDZWL5gAnq0qK4Wj/XRuCkTrAQKaNakhMP21B9h5a5nI8gJe4xHbafjx1G9ocne92vRG5OHqYGZLCIRz288gnZP1dKbx6d64dLzYVj780hoKzZA3RbdMWmdDRx+Bv6dPBdbJff5spDgdxP/bruDnhO6l17CygrGg2c9MLBj47z5OuoYvcAI/OQrsL8XBSJ+C+977dFTg3u/3BqjtWpb5vBlI0dUIKKTLKSnZEO+WPVmKcRxCH4SDgzUgWZlSr4URVUrGuSkkWmEul52cPBjG5Dk46FeBx30Z+vFGtZHvbpMJMh4Csvpi3C51xD0VarEA8QVQVIQE5IAeaO+6FKsmFEfLZQ7gB9zESfuvM1rICMhQqqHLXbfjSuQli8FnqfdoP79OAwcMglzfmVKf7+aYIxOS9Ql2cjMYoOlCO/9nHHBdhf+tmwM5XRPXHYLY8qNJUh/jxQDHXRg981HDSAYuBiHTxijieMv6FCvIVqMPwzhrB1YbaDALSONGKlPnXBvVL8CjwbUhWDYFPwsCMbRnZfxMtK3lPtxrIZQ6tARSW8TipRAG0Gle290CWdKxXEFHgbJTkCEd32MMtCEPJdUpsTXePooDTr9O0Gp4GZnvMDBTRuwwmgRbG6cwz6Lw7C3+Q1z/rhX4OKpAFEK4kIV0LV9uX+ZoqhyoEFOKnm07xyOlesOwz0+v5qNKfmEeuNBrDKGr/kefdgTa2Yq4qOESH76FF5xCQhzuw1X/yTmhMWUCGKCEZz4eS3lshNSkC45IRLkRj6Ew+XO2LpoMFoWK2nVh/LACZil8RZHTOZhmfUVuHm4w/n4nzA7qYDJBXr5+KQ+FAQpzIn3OBxd3OHp6Sl5ebhdx/GdVnCKYkOZDJppD4WRbhuk6AzH1JmTMWGAKhM6SiCYBOsVulJ67WBKwh1GYMmRh0gjBOT1eawb0lZ67x65SYhJZPY5iYHrqUCMHdiB+XQBTfUxY80Y4NFBbFp5pJT7cSwZKCi1g5x/FBIKFXB5aKz7PX43DYfTowjumUfmguCFK66rLsDiEe0k+4vE38OmIf1getyvhMBOkB7ggevCjhjZU6VATyxMgH7sivSxk9Gr0S0ccJXH9OXzMN1kErSP28PtnZSnLNPjEPZGDR2USty7FEVVBtutF1VUNomwn090R48guhojyIL128iO9fOJoe4EssrmEYnOEXPLpZHA00tILz5ztlMzIqtPuJGnp38hGhCQXmb7yPkrtmT9GBUmTA0kS6yuEa83gcTVbj0Zwy6vMZuYX3xO3ry+T46tn0DkwSdaCyyJo1ccEUc7EGPm0MgPNiIzjZeTzZuXE2PjDeSM73si+eUPocTVfgcx1uAT8EeRVYeZ747PJGm+Z8nqMVpsWGTS+5LZ5ldJYFquZE2lynlHPOy3k8XjdQmf+Qyf2b7Fm48Rl9CUvN+RyCShdjOJ/BInksilVJ8PJNBmCrPuumTM5MFEy8yRxH5akU9SHpDNBgJmO4cTc48ULrEEiU5kifJy4pRYfD+I016RM2t+IUv3HCOnD28iZgv3k/vRmdy7hIjenCdz2H3cw5J4Ffq4iKR5nSPm5n+SJZL9rUbGLNlMzPc7kwgR+76Y5CS8IwkJd8gqwRRiE/gh71OBNmSEyhbinll8o3J9rUj/ETYkUPJ5iqKqCg1yNREX5NTMPUgOl/T1xBPnVf2JkV0wEYvfkyDvN0woqi5ZJNp5Kxmvxid8w03kTnQWl15ULhPQr5IjV/1JmrQgWJA4hjgtHU1WOcdzCRWVSFx3nyS+pVwrlEQSuHTMiYckqOUFcMGqOyQh/g2JLHTxwb43gwy3esVcXlEUVZVodSVVOlEUfG7XQS+NFsgNvoIDHsLC1YdVqj4EQ9bi8us0pLlsxFBBSY14ZMDXHoPZY7TAL14PWxivFQbNm4Cgk66IllT9VgxJ8sZDGU2oVHijsxDh+QC+g7tCtQGzkuJwPDjzFtOGtMPb02fhlVFgZTJe4cq59lg+SYvrQo6iqKpCgxxVujptoD9DHZHOtjC/2RbLjTt9YydiHhpqf4/fOrng4IN4VCjOkXd4cDoSg3/sgYq232SDXFKs8FMjFl4zqBuoIOnBOdxQnoCRLfPvSGYgxOE0wufPx9CPaRRFVRU61E4NQ9774OI/27Dm91MI1jWD5WoTTJzQG8r1yiqyUKXKDYfj+hMQLVyBCe1qSuMOEYTeJ2DxogdWmHQru1RKUVSF0SBH/XewI4MH1UNX7UqMFFAt2JHBY6HYtQMNcBRVTWh1ZZUgyE2MRWIJHRrT0cRriLoCdPuiAa6sfJGOhh3a0wBHVUAWEmOSuMdeiqPnmuJokPtsbK8nZ2HuGIMGMtLPVryGmfA+cKgcIwJQtQfNF1QVIynwPWkNx7g6JTb+onmqOBrkPhNJfoCdViJMnanz6YqcxODmMiOsdknIm6/bDiNMNeG69TJCc2jt8DeHreb0S6hQo5XPyxdsNWYohDSr1HwVzhvMxU/wSwRXuLQlQvKDQ7ASj8ZMnWafaiNonioTDXKfRYiXx09ANG0k1Ao2DEl+iRtnFNFT/VPPjDyFfjDWd8N+l9iKtfCrIuLQ45goGZeu/C/ZicdLGaZHitTH2DvDUDICgbqFZ4lVKt+U3LdwNj+BUD6/AtWcn5svGkKRuMHi2MsvdlKq/vyRhMd758CQHT9R3QKetSFzVCpvfEDg5Z24HFh0hPsyZL/C8W2ZmGakXrh1cw3OUzUFDXKfI/s17l9sjcE6XH+DJAl+txxgu30XLDsqIt3jJtzC0vPeQwOo9O6BgEse0vsurGZ1VIdg7o9dmCkVjFlvAwcHh1JeNlg/pi/mmo1Ah4rkkKZ98OspO+wwVuMSvnHM8fTY8zfc+s+GUUVaZH52vpABX2cKZskcxZqLYV/kYqH684cC+vx6EKd2zOTmv3GVzRuVQpDt74aLXftCJ7+f1m8gT9UYbOtKqnLEEfZkWrGumITEy3I00TF/Rj51EMVJcSartKR361T9xCTLay/pyxxy+ZK6y8rHdoU1cC/xyqrMekYQB2O1GtJby+cQk+xAGzJpjgOJquBuqLJ8kf6UmI/aQJyldElWFnHaa+IZxHUDVy5fIn/kkGiHBQRq5sTjm84clc8bbFeAHubGxNwjjZsvj7xuBkfY+JPCvb592Tz1raIluc8giouER+tmhcceIzF46fIeg7sqF+iwl9NYDi1yIhBdbDy4L4GH+t0mYa1ZFyRbH8YFySjk0mQh9NplZK+chG71y18JU/sk4fEJR7Sb2heCCu6GKssXjbXxndFr7LsWiorUGrNEgRfx0+XXKH9Oo/mj/CqfNyonC3GR0WjdrEnhqrcvnKe+VTTIlYSkI/LBSWxZsxnWdgewdePBIgN/liAtAj5PO0BXsxmIMBQvw/OrECqHxDhi4URbBFVFjuQJMHDG99CCMyzt80fXLiL1CY4eFOCHgYIK3GeoJkSIyJevkVBCE/xqleqNq8fVMKpX/ggOqQhyWIch+fetDNfglHcsUoOuY8vU7tA3s4Z7TLZkSakqlS+aoOPAAUg44YbXX+KM9E3lDxGEkQEISvgKrQiL5Q2GOAbuf0+HguR+pSambrkA74QMJHhfYPKHPoz+cEFMsWP4H8hTNQANclLlIObaegwdYIZziqNgajwXpjovMEapYV5mNLmAGGapuu20MCw8DpLxUzmiMB/cbqANDaVcBJ89DY/sAqeC5Bi8bqYNtXJ335SFsDsX4GPYEypVcqTqoGm/GVg3QREBuw/hcmjRE0Qu4lyvwu+n6ehX4hhtlZGFmMd22LB0E6zPnIOdxWr8z+Iaggq0MCNCH5xduwjLLI/CbstPmP7remzdfxYX/jXBLLvAwiUS8g6uu83xr/nPmLzNCd4P7bBlqzWOW63Dwm3OiPnsoEiQFfwcNzW1odosv7F2U2hOWoGta0fkzb6rh9bKimiqqg4V9cU4ZDEfBlxfm1WZL2TaaqLvqwd4EfV5wzaVz9fIH2XnDbbpvN/ZTTBbtht2dltgOn0xNjDH+8qFXRg56ySCCmWOXMS7WmPrv9tgNtkczt73YLtlBw4c34fVC3dWQdN6aXmDUUcAg59/xiItdnR4Meqq90A3xcZQ1BmMgT1nY+1KQwiK7bLy5qlGaKelgfC4lEL/B99GnqoBuGpLqiCRP7EZwQ7lokaMHSIkSTke5kQNymS4pSdJl6Qw2OVGLSIO0Z9uMIiTHhHzSWZk835zstc5ssB9KTHJZL6j1ypnUsbgMB+J42+T1X0XE4e3JfXGXxm5JNFpOZGHPOlr+YIU+uasF8Ry8O/EOeVzxnspek8uh8Td30KGG/1DvD72vJ9J3josITqzT5DAD+w9gwTiun7wp/URvyWOZgZkgl0gyYwPIUHxBe84sPeOrMli+1CSLTkmusTMITTvt8RhxH6aDvO5oCL3Lioq796RtOGFxLE3yDItPpM3mLxgfos8trEgJ19/zBF5qjJf5L4iVv3ZIYUqcg8nL7/qVuq+aHXmj6L35MqTN0QkxXUT0eqbfw8wh8Q6LiGCCXYkJDOeBAXFF95GZh33Lj5L3mR7EHM1PtEwcyBvJENjsfe1TAmf/dxnZY6S8wYhycR982D2Covwf7Anb9ifzfIiB/c//nTOkHJPrjx5ih2madRsBxLNfifnS+epbxUtyUlDsiCMT+NmCorE7aMPEJx/OVVHDaPm18MF18iPTXV58gZY4WCF335ZgcWFBgZNwQunQEydqstcv5WFIDfmAfavPIIG237DxDYl9cZfGTJQMPwRm/oCjzYdxa2PI2OLkHT3NBwmTkb/qizFZbzAsTWHwBs/BF35+Ve+DdBm2HiMvLkZf19n9l1uOJ6cioR62+aQbClPDgK1Brh0xwdJih2goVjwjkM2onzS0M+gJRLehCBWZzrmjVHJ2888GdRrIMSdh4FIlCxbWZmIDg2EQlvmqppLycdrORhLN82EPJsXVs7FVozBVLUi3TdXZb6QkUPLDkK8jpFaeVgNvmD+KE/eQAaCn9xDgHobtJTcA6wLBUFbNL70EF5JzaChoVho8F0SFYh3/fTQNuENfGMN8NO8YWgnGameh7r16kN45xn8EgsV/Sqo5LwByKHn2Elgdh2EjrfgHpmFbH8fZOt2LLWD7/LkqToawzC/zj24Rn6qvvx28tTXRYOcNDJt0WNsd2ZChKwcEfOPRpCVIWROrwBfqxXkP+61elAatxDjHpwqcDKQhiDT9wLs6phgbk85Lq0kSXhs+SP6aA7AulcpCLVZhdkmJjAp72vOP3icWkZle/0umL7WGPLJdth+ISCvCkQcimuHCFZO75IXaKqIKNwTl91lit80Z2+MNw7AJVd/JMsoQFmfj5T0LC4oZCMjNRtdNAXMaaOoBlCduQLT2n2A/5NnkB3ZExrsUDasrCj4u4ZAVq5x8RvxVaYh2hn9jK3jVZjpSLi5vUR0serRqs4X2fiQXdKJORXetsuL5QPTjfYItd8I0yLpJj8fhXfBYX6k+UL5o1x5g/m1FsodwE9JR6Zktbn/xS7toSRXvN8Pnuo0bJnWHkJ/D9yU1UNPDbb6kJWON/6+gCwfjfPzS5XjoX6nAZjWV56JcveZbQtGkJcIut3K+p8vR57iKWPcb/3xwPou4ko9fFWRp2oZrkRHFSImOdG3yAZDZSIwu0jeZicQ9y0jCPhjyJZH8cy7hYnTvMlJCweueqU4cZwr2b/XpcCI4mXIiSVeZzaRadN2EOcCI1VXqZT7ZD1bRaK1ibim5JAU1z/JYGlNkSuscHWlZODQAtW+H+Ww1Ungqn24Kqjxu8mjuHSSFnCSLJywmdwpbdvTH5HNXbTIbIc3H4+HZORtdCFmjm+LHaOKYauUBpf8GMQHX3Ji6RjSgz2jwIAsc4qS+ntVky/Y/albfP+VofLVlZxqyR+FqyvLlzeY/RTrSMwEk4n5oxiSneZDTiw0JhvuFKyeKyqv2pBfsHqPuwVR5uMRZSojbxAh8bWaxIYhwh8zjyyzKlhVySrhEYJy5alckuZzllic8S9x4OLqzFPfKlqSk4qHuq37YcEfm7BALQWPHe8jWns53L2PY5VB8Q5+efxumLF8EjQbSr9C5LUYgF8WG0IgqTYph7otoTP1dxxeWR97V5xFUHapl26V07Q3Zq+bAH7AUey6dA93T8dgzqSuxUtAJA7Pds7IazWmvxF3fF2wzWgiVp98joRyrJaMig5GdclAaJGb5khNwNskNW68tSzERHTEccthyHxyC3fCNbDm+BoMFZRcHhOFe8PJpysGdGnJHY90BLhcw61e0zCjX+u8NEmDhd8wlu1lQ9LqLe9Vdk8dDaHUoSOS3iZIaWEohO8pZzRZ9g8sVrMVU+7Y/ccJPEktflVcJflClIK4UAV0bc89WP6llCd/fJG8wTZcTECH45vxXaYnHO9EQX3NP9g0tGD1XBGit/ByCkffAdpolZcRkBNwH/a3tLB4Rm+0YNOqJW+wmkBryBiwTUmE116jeffSqyrzlDdPyYDfeQqWT9Vi1kK6Gp2nvhYu2FGFpJFAuwVEQ7CI2Pu/JdHR0ZJXTPKHzywhVBTbIGN0odJKlWIfGBWwV458orX+fskNYj54E6vxKkxJdjz56+husma/B0krcYWkNDxx3kB6GWwn7in5jQvSyWs7U6bkdoD4SEo574jT0nlkr1dyObczk4TazWTWewqxCWSvaZmSd5QjWdp3AbHxyX8AOp2E2C8iw1ddJCFpuUyp6gkxN5zBLV8WMcl030JUij3QzVxJex0k/7PxJdnMnDjKgZjKs/tPhRhxaVWOPUbKZoUasZTHZ5fkWOXJHxXKG4VLcuXLG2xDmLVkwt7SvrcwcagdMYLg08PTOW+I49LxZLaNN/cd1ZE3ChAFEbsJzD7pspW4pxdd6aIluW8nT32raElOqmT43LmD4Jj9mN6pLZSUlCQvgXwH9JpeFc2Qy6s5+k4fj9dn3fGWyfZVrqk+ZqwZw0wMwsLJPUtuENOwM2asXQgD4RWsX/YWg3/oLn14GKE3zljsg717LGKvHcLf/7ggUlwXLYasw+W/G+Gg8U9Yb26OLUvnY63vaNw5ORedJaWc5ugxtAk2dpdHnYJX1XozsOGsj5S+9t4jyNMHgvk9kOlgDTu7PVj510sMOrIdpp3l8kpxqR44uo3AbMkYdODLMKUqAToopyAprcg9slRXbFp8CdGFfoOHBpq6MPL3Q9j7/KvpdIQ578MvU3YhMiYcYcJMvHsbA5Hkkjocl1dshY1PimTJqiR6G4RHnXqhS6sSyy3Vpzz5o7x5gzlm3mcsscf+MRB7HYf+PgSXSFE58oYM5Hv0ReuNepCt8ylv8GT1MXXDefgV6+hYhOQgb7gKRmNY5lXssjsKy5UW8Bi0HftMuYFpqzxvFFGnPQZNHwad6YPRrbHUncH5D+apr4ELdlQhzNVV4EWyfowWm72LvQQVeAzgs4nTSIR/ZLmvYitKnBZI7t4NLPv72ebjfeWZ7a/qK8xckvTInExYeJS8iCtwxycnngS6niSrDY2Yq973XCJH6ErWK2uUWsLN9bIkPYzsSGj+AuzVq8oS4hhbzqtXcQxTuhxNVjnHcwlfwwcSaDODDLd6VeH9XSUlOUa58ke15Q3m95PcyJYJS4nNi9gC25JJ4gNdyenVY0hf86dF7nklEtf1BoXvxxXxJfJGjocNMXdP5uYKKuGe3BdT+Tz1raIlOWkyXuHEKkvEz7kBJtuzFwJ5r5w4uJuPR2ZWzpfr4JTHh7JW2xKujj8fj6+JwYM1y/h+IXyPXEK9Tf9gmVYCc4W5FxciMrn3Plcukl/7Ib1DJ6gXfFSgriI0DfpCvyNzQZ1ReG+L3vjibmT3Avfjiqsj3wpaH9/MRMSNSwhaPQfDPj4cK0TQ2X3Ys3kxzC6EF+/iiNcKg+ZNQNBJ1yJX8l8Qkw+vnGuP5ZO0Cvc8Xw4yHSfioJE6Uw76PGXnj+rMG8wVZXIYnqW3h4568wL34BpAUVMfA/TV8SH1Q+H/RVE0fO/GFLgfV1z15A3me1yOYt9Zb7wnmQgNbIj+Zbaq/Ao+I099q2Q2MbhpKl9ONB4dP4dgQV/06dwGcvWZawEm4yZHvMJdtxxM+2kqdJtXZUP7GozEw/vUdiw5lI0hM/qiadAdXPF4BJ9MLYwepg2F8jamKVFdyHfuA+0oR1jZXMOz8GjERQTD894FnLJ/jvrjVmChYVvkdZOYhUiXw9hmYY3TEQQCeTEaq3aBqlzxahdeU2Vo5VyD9e0wxD67CmeRETbO1YN8HW59xbHwT2gO5bjbeNlqNMZqNi0SMHmo20IV6sG2OC3uhUHtm5QYUKtHBkLs98Kpz0L8rNe8ws/68OorQNC8YfWuc7XnDWY75LUwVDsa56yO4dazEETFReK1pwvOnnKAR/3R2LpwEFqz/58McaQL9m/bCcvTkWgiqI+Mxh2gp8pVXxdQLXlD5ItjU6ZgiWNLjJkM3A9qDyP91lIuMrIR8+g6wlXHoK/Slz6HfF6e+lbx2OIcN00VQDLj8TowEKFhcUhnLuXqNGkBZWVVdNRsA34V/PNSXx+Ju4qfR3hg8tFhaNi8F/orS2nNmRsOx/UnIFq4AhOqfUiVfCIIvU/A4kUPrDDh7iNRX1TF80Yugs78CbPfHIGxa7F700zoFOz26yMhPC1+wV3Df7BCN/8Zvi/hv5unaJCj/rPEEQ4w2+gJjc56MFo0scSm/pLRn4Pqoat28cdHqgc7inMsFLt2oAHuK6m+vMGODO6LGEFnaHzs5eVL+O/mKRrkqgRBbmIcUuRaonk1lvKIMA6xaI7WX/Sf43OVsW+IEO9igVatKzK68jciNwkxKU0gaC6lFFCbt5uiahDa8OSzMVdmvmdh7hiDBjJVd7oiqU9gMf1feBdopcxrmAnvA4e+4CMMn6sc+4ZXD2JvO+xxefvlGvN8AUT4EifNnRDXoIRm2rV0uymqpqFB7jOR5AfYaSXC1Jk6n6oBSAxuLjPCapcELqGI+KtYuPAq4rnZQthnzbaugLHRbPzhkYFCXdjVbYcRpppw3XoZoTk1vwAudd8wp/T4m6vRfbUL12NEAyiN+B46rgfgEFrSQJ3fGBKPBzvtIZ46ATofS93/ge2mqBqIBrnPIsTL4ycgmjYSavUKlFSSX+LGGUX0VC/h8ercbGRkZEu/gufrYNo6CxyxmItWXFJBPIV+MNZ3w36XWMlDezVXCfsGiXh+4xG0e6pClksBryUGG2vCYb8bkr75ynOC7Jf22CYaBaNCPcl/i9udBPctM/HxAewqeFHUl0aD3OfIfo37F1tjsA7XBxxJgt8tB9hu3wXLjopI97gJt7DPGxm8uAZQ6d0DAZc8EF+TA0LRfQMR3vs544LtLvxt2RjK6Z647BaG/Ceq6qj0wqiAW3gU/61X3qXD/74Hug7W5noI+Xa3Wxx6DTvsNeGaIgLJicKjAxux9PdNWL9gDAZP2YATHu8KP0dajhdFfWk0yH0GEhuIR/VV0ZbP7UaeArRHjIJuGxnojJmCmZPGYYBqk7z3qlCd1iroeu8lQquj4+YqUmzfQAbNtIfCSLcNUnSGY+rMyZgwQPVTR7N1FKHSNRzeoRW8KCApCH4eIqXrr6+EJCDgkRgd2+Y3D/9Wt1uIV1cvA6tmoF/TDPgetsDNTr9g118b8af1WRweF4nFgxfDyvt9Da9RoP7raJD7DKK4SHi0bgbZgnuRxOCly3sM7qr8scd2EnMTm0wLjOm1ZB8ePtyHJQXG+TLddBMx5T1bsONt5UQgOqmEvvNqAKn7BlmIePkU4YO7QrXYmF4NIdciC0HRFRzIUfQal3+6iMCasitEiYj0aIJmsgUbnHx7203i7sHaQgVmYzqgTupTHH/YG3P6t+BagjaGmtGPmC97Duu230QkjXJUDUaDXDGpCHJYhyGy3H0EwzU45R2L1KDr2DK1O/TNrOEe82l03mLSIuDztAN0NZuBCEPxMjwdPMFIbDpyDMeOcS/LxejXbzEs8+eZ15FNIyGotlsWuYi5ugITbQOKd1FUIZ+5b5CGMJ83GKirBnm2JPIy4mO13bdBjMzIBzi+5Tdssj6Kw1s3Y59rVDlaR35r252J4Kun8HLFjzBUkIEozAe3TqzE7J1PmPIdR7YDeg5UgfCeN16nfV6uoqjqRINcMU2hOWkFtq5lR4RivKuH1sqKaKqqDhX1xThkMR8GgrzueOq208Kw8DgkF7iaZk8ItxtoQ0MpF8FnT8MjuxoiV3IMXjfThtrHvvbKIA7DHZtwGOq2/cwD/nn7BqIo+Nyug14aLZAbfAUHPIQFuj1KRczrxtBVU+Dmq4sIyY9tsfWfzTCbbAG36HC42Vpir+1pnN4yFxO33S/xXieJuYb/DR0N43PyGMeUzOeaauP5mLaoJ2lUYYYLMUy4qyuA1jAh4pILBPsasd0VwJTcTuxthbXcKOB1lHQwxagbOraVKz6GW2Y2cnIJSPJjHNi6G1vM5mCbWzii3OxgsdcWZ05vhclEZj8XvOdIUhF21w5bls6AITuem6wejJbuxgXvuHJcMFBUxdAgJw1PAb3nLcMyLT4QcAx/27rgyXFH8Ob+UKBJOKO5OvQb+yIg7tO/Zp12vTCjZyScD1vhpooJjDXLHjKxEHEEXP6xwK7j95CUdA/Hd1ngH5eIAiUwgqyIADwf2gWq5XomPBcJ947DWmEGJnetgm6EPmPfoE4b6M9QR6SzLcxvtsVy406fOonNikbAcw10UW3EJVQTcSiu2tfF9wsmoHvcLhj/eBwfRpvh1zk/4Ic5Y9B03W44+Etr0s+Ubm4ch1UwU5bR6QClBkxga9EenVsB/OF74ZVuhUkCNgQoQFO/Hp4EJHy6V1UTtrvcmFL/HXtcHD8RA7mLKF6LQVh76Sqspn8arJPE++DerQRozR6GHvK5CLt6B/W+N8HE7klYZ7wIBz8YYumvczDth1kwamqDdQ4BzOUF+8F3cP1jIdbezYTG6IUwP3MPHrf/glEDT5y9HYI0WvVJVTVCleADeWO/gMizUQXKZLyNv5RhS7JJlMMyMtM+tMQhX6SKdiDGxg4kmputGHZo/3nFh5+RKpNEP/qHzB6/hdyPL+cwIuVS1ftGTNLdt5PRxYZNKYccD2Kumz8IZzlEXyTLrV6R3EQnskS+B1nqFPNx/USBNmQEjIiVL7cW4jQSGZbAbZuQeFmOYk/BBPnHjv1tNXYfjCKWXkLJUix24Ms5M+3JmzI3/Atud3mxw+b0n03sQgoMe1SUOJE8Mzci8oZMvopjVyCCOCy3Ib6574jTEh0iWOpEEj/uVH9iM0KF9Gf3OTsbcoL8uObOp/cpqprRbr1Kk/kS1tOMsPBKOORnn4HXoSloV7RrqpxgnPnfWTRbvxojy1t9yPZ35wdodxOUPIS/VASZvkfwvyua2LKmP+RLqwlNfQxL5or698vR6DjGEJ2bV+yXZHQXYs+vfUoeSLUq9w3zXQf+54JuWxbDQL6k4ilBhvcxrNh1F4XaIYoT4XvtHVqP6YzmheolFDHofxsxR0faFhCku/2BTt/FYk/QPq4ExpRgLiyG5tJWuO6/EQOa8CDys8bgackwf7IGfRoTpLr9hd4DNyFgmj0iTk+DcoYbNnQaiL+S58De1wrT2uX3Kp+B0DNbcLjZL9gyUqnkbru++HazSutmLRdxV1dA785oeO0ZyZRJpclC9NUNmHJCgG27F2KgoECXZens/piLyD13YDupnWS7ScwFzNG0gPL1q/hzgIKk4+NffrwIfo9WkGvRFJmv36LZ7E34X58ifT+yHSr8zwwu42ywfYgil0hRlSAJdZR0H3zJiaVjSA/2zAADsswpSmqpRJzmTU5aOJBAyXD91Ucc50r273Uh0Tnl+R0xyYl7Ts5sMCbTttwp52cqoKr2jTiGuO4/RJyjSyk5lKZSJZp04mtlRDDChgSKuCRusE35JUwphEspJieS3NkwmvAFi4nD23SSwpTCDJiSrOEWN5JUdPPE74nPyX/JmcASBsf8KtudV7I31tCSPuCsKIjYTZjMlEpLGtCT+fydbcR0DXM809hyWWG5vlakP6YQm8APXIqYCF03EmX55cQpkV0+nYSc2UK2nHcmzg42xNLcnFjaXCNeBQfLzceWtAVziP2bLC6BoiqHBrkSpREfm73k4ptw4ry6b141lcF24p5S/J+7RhMnEQ/zH8kMO39SdaeLGrRvKnOyF78hDrO1iI75M+a0zcl9Raz6q5ARNv5ExAQzlwN7yZ5VC8nG+5+qM5koQD5EuZIDm3aRY+cdiIPDJeLk/pokV/UFRHlUeLtFJMV1L1l78hj5ix3Fu78V8S10uNj3NxEdM0cSK3Vz2AC3m6ze61bggom5MPhzN3EVsvM5JNrBjPB1mHXKzH+/yMVE+iOyeUrBC4tPxJkfiORj4kTie/M8sVk1gmDwKmLjcIW4hn6qCqaoiqINT6Rix146DVsMxZh27WH463KYsh13uFvh7/OByMlb6NvAk4fuT/OhtmMvrrKt/z5bLdg3aa/x5GaDws8yRryA0wMNDNdpiQQne/j0noT+LSLg7JfANfohyAw6jYWDl+CF1lAM72sAAwN9dFNpjoZV2DF39amDpgMWY+uMGZi7fBr4D07C/lEi9x6DvMUd2ycYP8MALYttDnvMbbBweww0lOLgfuUiLly4gAsO9nAIb4m2jdkPvIf/k2eoV/BZQBINTydv6AzvhvbsmaaeHAQ5jrA5chkujz3g6enJvJ7Czek4du6+hSi2o9Yv1KEC9d9Bg1wx6Qhz3odfpuxCZEw4woSZePc2BiJJs7JwXF6xFTY+KZIlvxlN9TD9lyScdX3L1i1+htqxbySPeaTpwqDTpy7HkoO84SrQQ08NWTTuPhXTFZ/j8FZgioEK19yfWcbHDUeDX8B6ug6UlJTyXgJ5tOg1CxbfzGgCdSEYNgU/Cx5g/yl3xEkyBNvf5mXsfv8DZvdrLlmqIHHEJSyZshqXb+/AvO8nY/Jk7vX9L7jQRjkvKEoek0jFKANN5O9VJIfA07U5RvZUybuYqNcJxgd/R8/YO7BcNB56euOw4M/jcI1TxuRFY9Ahv49TKR0qUFSlcSU6qpYTp0US/4g0qffNvmmVqK4Up4WSx49DSdrHnZFCPMyHE/5sBxItScshsY5LiPxwa+KT+JaExedVaorT/MnF9ROIGhsVir4Ea4lzipR6uOpSqXty+dKIl+UYZr25+2fit8TRzJAscXrHvV8J4hQS+tiDhH68VycmmR7mRIdvRhyiK7iSKc5klWAmsQvNZPZ5CPEOo9WVVOXRktx/BI/fFlrKtXCAThl1GB2ciI7lemYwD4+vit69VT8N/yOOhvftYHTvrclV1SXixR1vTDAbBsVHp+EYxVbCpuLlib+wPt4E93PEks6G817ZSHK3gCH3UPQXU4nt/oSPrmOnYQL/BsxPPEVKmAtTAp8IU8OW3PuVwGsK1d66UP34rGQW3ng/hXd3HWiVt9Ux54t0qED9Z9AgR33beHLQ6Kn2eUP6J77G00cCGHZW4qomm0BVtyca+F/D2YxRMO3GPUSfnYHE5ChERKdxVZNiZCZHIuBlCnofmo9BCpWKOJXzmdtdp8NoLP65IwL278CvG06g9epJ6Fa/KoNJEoKevoKyYWe0r+Bu+ewOFSiqAPqcHPWfJ/Lei17Tk2H5ZD0GNC3luo9kIuF1APxD3yA+XcScjZughbIyVDpqQplfsdLK10eQ7b0fht1/xSOtTXAta9srSuSNvb1+RYLlBfw5oPh9Por6UmiQo6j/KnEwjk+egguTzsFhlgat1qFqJRrkKIqiqFqLXrxRFEVRtRYNchRFUVStRYMcRVEUVWvRIEdRFEXVWjTIlYcwCC725jDRlAWPx4O6hWcpXTgR5MY8xvEt/8PCDVY4bf0HlltcQ5Cw4BDZFEVR1JdAg1x58DUxZPp0GBm04hJKIX6N0z//AOPfX0DNaDJ08AK7VlrgnE8atwBFURT1pdAgV9USA/HwTjg30xja804gPt4Rq/s049IoiqKoL6X2BbncRPg67sPWfcdhb70Za/feQujHqsJUBJ1ZDn0eDzyeOkwcXsLv7CZM1WsH9SGLsM816lM1JElB0NXdWDhEE7J6P2LLpVdIzhtzpWQJLtjyy07cEbIzgbDfuAAm258CinzUJakIu3sUWy3scNXpPKy37MQZz1ju95j1uvIHjBS49boQjBjXf5nf7g5903/hHv9t9G9PURRV47APg9ceacTHahrhyy8hjrE5hIj8ic0IFWJg/pSkc0tIem9XY3uOlye6sy2Jk08oCXBYTrTYm2kfRzDOIbFOqyVp8tMOkVdp2STt1SEyTZ79HIiauQezRAmiHYgx+10YTMw9uBGW2VGibeYTDUwiVr5sj+q5JNFpJRHwDcnqG2+474ogDsZqzOeUyagF64nFYUuypJc8Mz+KWHrRXtgpiqIqo1aV5EjcPexfdwZChbYQKNRlyqlN0Ky1DNx3XcTj1KLFMAV0HjcRIzuroqNBX+izScmeeBX2QXJf7eouOwRAA0ZTR6Azvx74XUZi6jg1yScrShx2Bb8vOYRgQUdotm3EpMhAXrMr9IV3sX3ZEbgXWrdIeMsNxvy5v2DziYu4eHUzpnSmHdRSFEVVRi0KcmKk+TzC5WRmUk8ZLQv2fB7zAj5s8ConEuWNW7dimKk26Nxe4TOHp8lB1LO7uMRWYTZWgFzjvF3Oa9gEcuxEwB24+hVulNK4hRwaM4GQrzkIE8boQlCXDjVCURRVGbUqyKW/TwIbmuB6HWccLuDChWeA0Q44OCxGv5b1JEuVhyguEh7c9OfLQlxkGDctTQyColO5aYqiKKoq1b6GJxJt0HPEBEyaNIl7fQddQX3uvbLVkVVA5SompWmAlsqq3LQ0AmgqNeWmKYqiqKpUi4JcXbTU6o7+7GTMQ9z3Tpa0EpHIjEHYuyxupmx12nbCwC7sQJnv8Drmc0tZ9dCmlyEmsF+XLURGVt5akcx0pLATWsMwUFtWkkZRFEVVrVpVkpPpNB6/LzNgplyxa+NOnHF9Cs/H12G96y5SKzKoZWMdTFk2HnwE4KzDPYRkZiLe3QHHLoRI3s54+w5JuR9DaJnqqI7BbxuNwI98Bd83GUyKCMlBr/AUBlhqbgqDqhyskqIoivpIZhODm/728WSh1m8QDFqLEXbrICwu+yOzUTdMXTwZOnJskEuB38ld+Mv2KWKQjAiijIF9BXhrZ4mNzr7IZIJPbjN1GBh0haZuXwxRqYewkxuw9lQQGukOx9Cu7aEzaR5mdZFFVkNFKMs3LNwoRRiAK5a7sMM1gPmuFCQx6yPXWAEqHdpCxeA7TO+biYcPgpGW6A+3FwSTd2zFksFtmDIo+5ycFcx3XERgJpAcno2mrdtCtZMSZGmbE4qiqEqjg6ZSFEVRtRatJ6MoiqJqLRrkKIqiqFqLBjmKoiiq1qJBjqIoiqq1aJCjKIqiai0a5CiKoqhaiwY5iqIoqtaiQY6iKIqqtWp5kEtFkMtpWJj0BI8dDVzdAp6lDbKdG43Hx7dh6cKNsD5thY3L9+BqUMqnPjApiqKob0otD3JNoTlkCmYaSYZELUMWQk+vxnDjdbiqNh6mOjy47FqPtef8UP6R6CiKoqiahFZXfpQIv4ceYMc2Zcloz8ON+HC4r+4DOi43RVHUt6lmBbncRPg67sPWfcdhb70Za/feQqhQxLwhhjDoLJbqK+RVO5qcQ5DfeWyYqg9Z9ZFYuO8+Yj6OCiBilr0Gi4UjoS6rj+lbLsEvOZt7ryTv4LJlFXbeeSuZi7XfCFOT3XiKZuDXZX477B5st+7B8avX4WD9N7ad8UR8/u+xnTJvmAgFdr14ZrgQEQ7XfYswRHMATPc9RDyt66Qoivp62A6aa4Y04mM1jfDllxDH2BxCRP7EZoQKMTB/StK59z3MB7Mhg0B3HrF08iZvAs6TpVp8Jk2HLHF6J1lKHHuDLGPT5H8k1q/eE3GaF7GeppH3OTVz4sF8tXQRxMFYTbKcmrkHyVssl6T5HCWzNZTJcKtXJJtJESc6kaUCATFYfZ1E5YglS5FoB2LMfj9GkAUbdpHD/y4hvdj5HpbEKzdvEYqiKOrLqzElORJ3D/vXnYFQoS0ECnWZMmYTNGstA/ddF/E4Vcwtxek8GlNGdkO7jvoYoN+KSfDG1VdvkYtMBF+1xe4AIfhGEzG+sxx4/M4YP3VI3ucqShyKi79vwtHgluih2Rr1mCSevBp66teF+/atsHZPylvuo0TIDZqFuWZ/4ITLFVw9NAWdZbi3KIqiqC+uhgQ5MdJ8HuFyMjOpp4yWBQNDzAv4hJWz6Qd5hxe3nkkmW3VujxafORYbiXqOa5fCmSlZtJBrmJfIa4AmcvWZiQc47hqMwuONc8vx5KBpOA5jdAWowFCtFEVRVBWrMUEu/X0SYthJ1+s443ABFy4wwcpoBxwcFqNfS7YMVQ6iRER6sEGpaojiIuHBTUsTHhSNomU5iqIoquaoga0r26DniAmYNGkS9/oOugK25FQOdZpAQU3AzXw+mZbK0OOmpVHRVIICN01RFEXVPDUkyNVFS63u6M9OxjzEfe/kTw9gZ8Yg7F3hSsES1WkN7YEdJZOxr2PA1n5+Dl6bnhgzQYWZykJqBtdCk2QhPYWd7o9ZAzXQIC+VoiiKqoFqTElOptN4/L7MgJlyxa6NO3HG9Sk8H1+H9a67SOWX986WHHSnzIIRHxCevYJbIULkxD/GyWM3897OiEFMUlmPExRQpwOMfluC4fxwPPaNRg6TRJJD8PxpMrSWroaZAS3HURRF1WQymxjc9NfFk4Vav0EwaC1G2K2DsLjsj8xG3TB18WToyNWB0O88/v7rCDxjMoEIHhQH6kH17QXs3GgPPyYpJ7c5Ohnoo4tmDwwaog6ZsFNYvtYeQY26Y8JQTbTUmYAFs7qgaVZDKCoroGGhRimpCLpiBfMdFxHIfFdyUh0oyvEhr6ICJRV9TJzeHTkPHyMoLQ7+bi+RM/kv7FsyCK3rMl/CPidnuQs7XAOQiQSEZzZB63Yd0ElJFp/Z7oWiKIr6TDz2OQJumqIoiqJqlRrY8ISiKIqiqgYNchRFUVStRYMcRVEUVWvRIEdRFEXVWjTIURRFUbUWDXIURVFUrfXZjxCw47tRFEVR1JdU3tBFn5OjKIqiai1aXUlRFEXVWjTIURRFUbUWDXIURVFUrUWDHEVRFFVr0SBHURRF1Vo0yFEURVG1Fg1yFEVRVC0F/B/8i826x53BegAAAABJRU5ErkJggg==)"
      ],
      "metadata": {
        "id": "SScMsLTdK8_K"
      }
    },
    {
      "cell_type": "code",
      "source": [
        "# Function to sample from autoregressive generative models\n",
        "# y - label for conditional generation\n",
        "# lstSigma - List of different noise levels\n",
        "# delta - Learning rate\n",
        "# T - number of samples\n",
        "\n",
        "def pnfSampling(y, lstSigma, delta, T):\n",
        "\n",
        "    # List to store samples\n",
        "    x = torch.Tensor(T+1, 1, image_channels, image_height, image_width)\n",
        "\n",
        "    # First sample is randomly generated from a normal distribution\n",
        "    x[0] = torch.randn(1, image_channels, image_height, image_width)\n",
        "\n",
        "    # Total number of noise levels\n",
        "    L = len(lstSigma)\n",
        "\n",
        "    # Lowest noise level\n",
        "    sigma_l = lstSigma[0]\n",
        "\n",
        "    for i in range(L):\n",
        "        # Current noise level\n",
        "        sigma_i = lstSigma[i]\n",
        "\n",
        "        # learning rate coefficient with noise level applied\n",
        "        eta_i = delta * pow(sigma_i, 2) / pow(sigma_l, 2)\n",
        "\n",
        "        for t in range(1, T):\n",
        "            # Random noise sampled from normal distribution for Langevin dynamics\n",
        "            noise_t = torch.rand_like(x[0])\n",
        "\n",
        "            # Smoothed conditional density \n",
        "            g_t = get_smoothed_conditional_density_grad(x[0], sigma_i)\n",
        "\n",
        "            # Next sample\n",
        "            x[t+1] = x[t] + (eta_i * g_t) + (np.sqrt(pow(eta_i, 2)) * noise_t)\n",
        "    return x"
      ],
      "metadata": {
        "id": "6hIHyRZwX-q6"
      },
      "execution_count": 130,
      "outputs": []
    },
    {
      "cell_type": "markdown",
      "source": [
        "2. Here, we have defined a function to get gradient of log-density of this smoothed conditional density."
      ],
      "metadata": {
        "id": "r2myuZivMWPe"
      }
    },
    {
      "cell_type": "code",
      "source": [
        "# Compute gradient of smoothed conditional log density\n",
        "def get_smoothed_conditional_density_grad(x, sigma):\n",
        "    x = x.detach()\n",
        "    x.requires_grad = True\n",
        "    sc_density = get_smoothed_conditional_density(x, sigma)\n",
        "    sc_density_grad = torch.autograd.grad(-sc_density.sum(), x)[0]\n",
        "    return sc_density"
      ],
      "metadata": {
        "id": "Nw0qS9Tbv_P-"
      },
      "execution_count": 131,
      "outputs": []
    },
    {
      "cell_type": "markdown",
      "source": [
        "3. Here, we have defined a function to the log-density of this smoothed conditional density. The formula shown below is used to compute the log of smoothed conditional density"
      ],
      "metadata": {
        "id": "gumEGv_lM5PI"
      }
    },
    {
      "cell_type": "markdown",
      "source": [
        "![Screenshot (457).png](data:image/png;base64,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)"
      ],
      "metadata": {
        "id": "lWNTR9xdN7ZO"
      }
    },
    {
      "cell_type": "code",
      "source": [
        "# Compute smoothed log density from discretized log density\n",
        "def get_smoothed_conditional_density(x, sigma):\n",
        "    #y = pixelCNNModel(x)\n",
        "    # Here, we can update the PixelCNN model to get actual discretized log density\n",
        "    disc_ld = torch.Tensor(1, 1, 28, 28)\n",
        "\n",
        "    # Different levels of discretized density (Here we have two, as we have black and white images)\n",
        "    disc_levels = torch.Tensor([-1, 1])\n",
        "    disc_levels = disc_levels.view(2, 1, 1, 1, 1)\n",
        "\n",
        "    # This line computes the first term of the above mentioned formula\n",
        "    sc_density_1 = -torch.logsumexp(disc_ld, axis=0)\n",
        "\n",
        "    # This line computes the second term of the above mentioned formula\n",
        "    sc_density_2 = torch.logsumexp(disc_ld - (1 / (2 * pow(sigma, 2))) * pow((x - disc_levels), 2), axis=0)\n",
        "\n",
        "    sc_density = sc_density_1 + sc_density_2\n",
        "    return sc_density"
      ],
      "metadata": {
        "id": "1EhPwUZZqiu_"
      },
      "execution_count": 134,
      "outputs": []
    },
    {
      "cell_type": "markdown",
      "source": [
        "4. Now we will apply Parallel and Flexible sampling algorithm"
      ],
      "metadata": {
        "id": "07jrNRJ5Ogvc"
      }
    },
    {
      "cell_type": "code",
      "source": [
        "# Initiate noise levels\n",
        "L = 10\n",
        "lstSigma = np.linspace(0, 1, L+1)\n",
        "lstSigma = lstSigma[1:]\n",
        "\n",
        "# Initiate learning rate\n",
        "delta = 0.001\n",
        "\n",
        "# Initiate number of samples\n",
        "T = 200\n",
        "\n",
        "sc_density = pnfSampling(0, lstSigma, delta, T)"
      ],
      "metadata": {
        "id": "FLS6zvpXeySz"
      },
      "execution_count": 135,
      "outputs": []
    }
  ]
}
